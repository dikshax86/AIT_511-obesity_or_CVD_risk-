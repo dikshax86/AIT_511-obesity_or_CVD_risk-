{
  "cells": [
    {
      "cell_type": "code",
      "execution_count": 1,
      "metadata": {
        "colab": {
          "base_uri": "https://localhost:8080/"
        },
        "id": "u1BIOp4xihh7",
        "outputId": "bc373bfd-dced-4765-c209-17bb58bfd0eb"
      },
      "outputs": [
        {
          "output_type": "stream",
          "name": "stdout",
          "text": [
            "Requirement already satisfied: xgboost in /usr/local/lib/python3.12/dist-packages (3.1.0)\n",
            "Requirement already satisfied: numpy in /usr/local/lib/python3.12/dist-packages (from xgboost) (2.0.2)\n",
            "Requirement already satisfied: nvidia-nccl-cu12 in /usr/local/lib/python3.12/dist-packages (from xgboost) (2.27.3)\n",
            "Requirement already satisfied: scipy in /usr/local/lib/python3.12/dist-packages (from xgboost) (1.16.2)\n"
          ]
        }
      ],
      "source": [
        "!pip install xgboost\n",
        "\n",
        "import pandas as pd\n",
        "import warnings\n",
        "import xgboost as xgb\n",
        "from sklearn.model_selection import train_test_split\n",
        "from sklearn.preprocessing import StandardScaler, OneHotEncoder, LabelEncoder\n",
        "from sklearn.compose import ColumnTransformer\n",
        "from sklearn.pipeline import Pipeline\n",
        "from sklearn.metrics import accuracy_score"
      ]
    },
    {
      "cell_type": "code",
      "execution_count": 2,
      "metadata": {
        "colab": {
          "base_uri": "https://localhost:8080/"
        },
        "id": "DYYQBLWOinW_",
        "outputId": "102e2f7a-b1ab-4c18-f012-c5d946ebbbc5"
      },
      "outputs": [
        {
          "output_type": "stream",
          "name": "stdout",
          "text": [
            "--- Script Started ---\n"
          ]
        }
      ],
      "source": [
        "# Suppress warnings for cleaner output\n",
        "warnings.filterwarnings('ignore')\n",
        "\n",
        "print(\"--- Script Started ---\")"
      ]
    },
    {
      "cell_type": "code",
      "execution_count": 3,
      "metadata": {
        "colab": {
          "base_uri": "https://localhost:8080/",
          "height": 216
        },
        "id": "-_SKa9THi2mG",
        "outputId": "701dffc4-ea84-46e8-ea2c-eca56380529e"
      },
      "outputs": [
        {
          "output_type": "display_data",
          "data": {
            "text/plain": [
              "<IPython.core.display.HTML object>"
            ],
            "text/html": [
              "\n",
              "     <input type=\"file\" id=\"files-5b5762ff-6fa9-4c3e-8304-0741363e32e4\" name=\"files[]\" multiple disabled\n",
              "        style=\"border:none\" />\n",
              "     <output id=\"result-5b5762ff-6fa9-4c3e-8304-0741363e32e4\">\n",
              "      Upload widget is only available when the cell has been executed in the\n",
              "      current browser session. Please rerun this cell to enable.\n",
              "      </output>\n",
              "      <script>// Copyright 2017 Google LLC\n",
              "//\n",
              "// Licensed under the Apache License, Version 2.0 (the \"License\");\n",
              "// you may not use this file except in compliance with the License.\n",
              "// You may obtain a copy of the License at\n",
              "//\n",
              "//      http://www.apache.org/licenses/LICENSE-2.0\n",
              "//\n",
              "// Unless required by applicable law or agreed to in writing, software\n",
              "// distributed under the License is distributed on an \"AS IS\" BASIS,\n",
              "// WITHOUT WARRANTIES OR CONDITIONS OF ANY KIND, either express or implied.\n",
              "// See the License for the specific language governing permissions and\n",
              "// limitations under the License.\n",
              "\n",
              "/**\n",
              " * @fileoverview Helpers for google.colab Python module.\n",
              " */\n",
              "(function(scope) {\n",
              "function span(text, styleAttributes = {}) {\n",
              "  const element = document.createElement('span');\n",
              "  element.textContent = text;\n",
              "  for (const key of Object.keys(styleAttributes)) {\n",
              "    element.style[key] = styleAttributes[key];\n",
              "  }\n",
              "  return element;\n",
              "}\n",
              "\n",
              "// Max number of bytes which will be uploaded at a time.\n",
              "const MAX_PAYLOAD_SIZE = 100 * 1024;\n",
              "\n",
              "function _uploadFiles(inputId, outputId) {\n",
              "  const steps = uploadFilesStep(inputId, outputId);\n",
              "  const outputElement = document.getElementById(outputId);\n",
              "  // Cache steps on the outputElement to make it available for the next call\n",
              "  // to uploadFilesContinue from Python.\n",
              "  outputElement.steps = steps;\n",
              "\n",
              "  return _uploadFilesContinue(outputId);\n",
              "}\n",
              "\n",
              "// This is roughly an async generator (not supported in the browser yet),\n",
              "// where there are multiple asynchronous steps and the Python side is going\n",
              "// to poll for completion of each step.\n",
              "// This uses a Promise to block the python side on completion of each step,\n",
              "// then passes the result of the previous step as the input to the next step.\n",
              "function _uploadFilesContinue(outputId) {\n",
              "  const outputElement = document.getElementById(outputId);\n",
              "  const steps = outputElement.steps;\n",
              "\n",
              "  const next = steps.next(outputElement.lastPromiseValue);\n",
              "  return Promise.resolve(next.value.promise).then((value) => {\n",
              "    // Cache the last promise value to make it available to the next\n",
              "    // step of the generator.\n",
              "    outputElement.lastPromiseValue = value;\n",
              "    return next.value.response;\n",
              "  });\n",
              "}\n",
              "\n",
              "/**\n",
              " * Generator function which is called between each async step of the upload\n",
              " * process.\n",
              " * @param {string} inputId Element ID of the input file picker element.\n",
              " * @param {string} outputId Element ID of the output display.\n",
              " * @return {!Iterable<!Object>} Iterable of next steps.\n",
              " */\n",
              "function* uploadFilesStep(inputId, outputId) {\n",
              "  const inputElement = document.getElementById(inputId);\n",
              "  inputElement.disabled = false;\n",
              "\n",
              "  const outputElement = document.getElementById(outputId);\n",
              "  outputElement.innerHTML = '';\n",
              "\n",
              "  const pickedPromise = new Promise((resolve) => {\n",
              "    inputElement.addEventListener('change', (e) => {\n",
              "      resolve(e.target.files);\n",
              "    });\n",
              "  });\n",
              "\n",
              "  const cancel = document.createElement('button');\n",
              "  inputElement.parentElement.appendChild(cancel);\n",
              "  cancel.textContent = 'Cancel upload';\n",
              "  const cancelPromise = new Promise((resolve) => {\n",
              "    cancel.onclick = () => {\n",
              "      resolve(null);\n",
              "    };\n",
              "  });\n",
              "\n",
              "  // Wait for the user to pick the files.\n",
              "  const files = yield {\n",
              "    promise: Promise.race([pickedPromise, cancelPromise]),\n",
              "    response: {\n",
              "      action: 'starting',\n",
              "    }\n",
              "  };\n",
              "\n",
              "  cancel.remove();\n",
              "\n",
              "  // Disable the input element since further picks are not allowed.\n",
              "  inputElement.disabled = true;\n",
              "\n",
              "  if (!files) {\n",
              "    return {\n",
              "      response: {\n",
              "        action: 'complete',\n",
              "      }\n",
              "    };\n",
              "  }\n",
              "\n",
              "  for (const file of files) {\n",
              "    const li = document.createElement('li');\n",
              "    li.append(span(file.name, {fontWeight: 'bold'}));\n",
              "    li.append(span(\n",
              "        `(${file.type || 'n/a'}) - ${file.size} bytes, ` +\n",
              "        `last modified: ${\n",
              "            file.lastModifiedDate ? file.lastModifiedDate.toLocaleDateString() :\n",
              "                                    'n/a'} - `));\n",
              "    const percent = span('0% done');\n",
              "    li.appendChild(percent);\n",
              "\n",
              "    outputElement.appendChild(li);\n",
              "\n",
              "    const fileDataPromise = new Promise((resolve) => {\n",
              "      const reader = new FileReader();\n",
              "      reader.onload = (e) => {\n",
              "        resolve(e.target.result);\n",
              "      };\n",
              "      reader.readAsArrayBuffer(file);\n",
              "    });\n",
              "    // Wait for the data to be ready.\n",
              "    let fileData = yield {\n",
              "      promise: fileDataPromise,\n",
              "      response: {\n",
              "        action: 'continue',\n",
              "      }\n",
              "    };\n",
              "\n",
              "    // Use a chunked sending to avoid message size limits. See b/62115660.\n",
              "    let position = 0;\n",
              "    do {\n",
              "      const length = Math.min(fileData.byteLength - position, MAX_PAYLOAD_SIZE);\n",
              "      const chunk = new Uint8Array(fileData, position, length);\n",
              "      position += length;\n",
              "\n",
              "      const base64 = btoa(String.fromCharCode.apply(null, chunk));\n",
              "      yield {\n",
              "        response: {\n",
              "          action: 'append',\n",
              "          file: file.name,\n",
              "          data: base64,\n",
              "        },\n",
              "      };\n",
              "\n",
              "      let percentDone = fileData.byteLength === 0 ?\n",
              "          100 :\n",
              "          Math.round((position / fileData.byteLength) * 100);\n",
              "      percent.textContent = `${percentDone}% done`;\n",
              "\n",
              "    } while (position < fileData.byteLength);\n",
              "  }\n",
              "\n",
              "  // All done.\n",
              "  yield {\n",
              "    response: {\n",
              "      action: 'complete',\n",
              "    }\n",
              "  };\n",
              "}\n",
              "\n",
              "scope.google = scope.google || {};\n",
              "scope.google.colab = scope.google.colab || {};\n",
              "scope.google.colab._files = {\n",
              "  _uploadFiles,\n",
              "  _uploadFilesContinue,\n",
              "};\n",
              "})(self);\n",
              "</script> "
            ]
          },
          "metadata": {}
        },
        {
          "output_type": "stream",
          "name": "stdout",
          "text": [
            "Saving ObesityDataSet.csv to ObesityDataSet.csv\n",
            "Saving kaggle.json to kaggle.json\n",
            "Saving train.csv to train.csv\n",
            "Saving test.csv to test.csv\n",
            "Saving sample_submission.csv to sample_submission.csv\n"
          ]
        }
      ],
      "source": [
        "from google.colab import files\n",
        "files.upload()\n",
        "\n",
        "# Setup Kaggle\n",
        "!mkdir -p ~/.kaggle\n",
        "!mv kaggle.json ~/.kaggle/\n",
        "!chmod 600 ~/.kaggle/kaggle.json\n",
        "!pip install kaggle -q\n",
        "\n",
        "# # Download and unzip competition data\n",
        "# !kaggle competitions download -c ait-511-course-project-1-obesity-risk\n",
        "# !unzip -q ait-511-course-project-1-obesity-risk.zip -d data\n"
      ]
    },
    {
      "cell_type": "code",
      "execution_count": 4,
      "metadata": {
        "colab": {
          "base_uri": "https://localhost:8080/"
        },
        "id": "-yLB4jN4ir9s",
        "outputId": "b866a494-6523-40b1-fbf4-cfdc05fa4e82"
      },
      "outputs": [
        {
          "output_type": "stream",
          "name": "stdout",
          "text": [
            "All files loaded successfully.\n"
          ]
        }
      ],
      "source": [
        "# --- Step 1: Load All Datasets ---\n",
        "try:\n",
        "    train_df = pd.read_csv(\"train.csv\")\n",
        "    test_df = pd.read_csv(\"test.csv\")\n",
        "    original_df = pd.read_csv(\"ObesityDataSet.csv\")\n",
        "    print(\"All files loaded successfully.\")\n",
        "except FileNotFoundError as e:\n",
        "    print(f\"Error loading file: {e}\")\n",
        "    print(\"Please make sure train.csv, test.csv, and ObesityDataSet.csv are in the same directory.\")\n",
        "    exit()"
      ]
    },
    {
      "cell_type": "code",
      "execution_count": 5,
      "metadata": {
        "colab": {
          "base_uri": "https://localhost:8080/"
        },
        "id": "Cv4h9qGXjSw_",
        "outputId": "df19d58b-5a4b-4d21-9693-5add6d45406d"
      },
      "outputs": [
        {
          "output_type": "stream",
          "name": "stdout",
          "text": [
            "Combining and cleaning training data...\n",
            "Dropped 24 duplicate rows.\n",
            "Combined training data shape: (17620, 17)\n",
            "Preparing data for modeling...\n",
            "Training set size: 14096, Validation set size: 3524\n",
            "Defining preprocessing pipeline...\n"
          ]
        }
      ],
      "source": [
        "# --- Step 2: Combine and Clean Training Data ---\n",
        "print(\"Combining and cleaning training data...\")\n",
        "\n",
        "# 1. Rename the target column\n",
        "original_df.rename(columns={'NObeyesdad': 'WeightCategory'}, inplace=True)\n",
        "\n",
        "# 2. Drop the 'id' column from the training set\n",
        "train_df_no_id = train_df.drop('id', axis=1)\n",
        "\n",
        "# 3. Concatenate the two training dataframes\n",
        "combined_df = pd.concat([train_df_no_id, original_df], ignore_index=True)\n",
        "\n",
        "# 4. Drop duplicate rows\n",
        "duplicate_count = combined_df.duplicated().sum()\n",
        "combined_df.drop_duplicates(inplace=True)\n",
        "print(f\"Dropped {duplicate_count} duplicate rows.\")\n",
        "print(f\"Combined training data shape: {combined_df.shape}\")\n",
        "\n",
        "# --- Step 3: Prepare Data for Modeling (Features X, Target y) ---\n",
        "print(\"Preparing data for modeling...\")\n",
        "\n",
        "# 1. Separate features (X) and the raw target (y_raw)\n",
        "X = combined_df.drop('WeightCategory', axis=1)\n",
        "y_raw = combined_df['WeightCategory']\n",
        "\n",
        "# 2. Encode the target variable (y) into numbers (0, 1, 2...)\n",
        "# XGBoost needs numeric labels starting from 0\n",
        "le = LabelEncoder()\n",
        "y = le.fit_transform(y_raw)\n",
        "\n",
        "# 3. Split data into training and validation sets\n",
        "X_train, X_val, y_train, y_val = train_test_split(X, y, test_size=0.2, random_state=42, stratify=y)\n",
        "print(f\"Training set size: {X_train.shape[0]}, Validation set size: {X_val.shape[0]}\")\n",
        "\n",
        "# --- Step 4: Define Preprocessing Pipeline ---\n",
        "print(\"Defining preprocessing pipeline...\")"
      ]
    },
    {
      "cell_type": "code",
      "execution_count": 6,
      "metadata": {
        "colab": {
          "base_uri": "https://localhost:8080/"
        },
        "id": "dJ6FcXt0jZFh",
        "outputId": "2880e572-fe22-4cfd-c163-2ff68262851d"
      },
      "outputs": [
        {
          "output_type": "stream",
          "name": "stdout",
          "text": [
            "Numerical features identified: 8\n",
            "Categorical features identified: 8\n",
            "Defining XGBoost model with provided parameters...\n"
          ]
        }
      ],
      "source": [
        "# 1. Identify numerical and categorical features\n",
        "numerical_features = X.select_dtypes(include=['float64', 'int64']).columns.tolist()\n",
        "categorical_features = X.select_dtypes(include=['object']).columns.tolist()\n",
        "\n",
        "print(f\"Numerical features identified: {len(numerical_features)}\")\n",
        "print(f\"Categorical features identified: {len(categorical_features)}\")\n",
        "\n",
        "# 2. Create the transformer for numerical features (Scaling)\n",
        "numeric_transformer = Pipeline(steps=[\n",
        "    ('scaler', StandardScaler())\n",
        "])\n",
        "\n",
        "# 3. Create the transformer for categorical features (One-Hot Encoding)\n",
        "categorical_transformer = Pipeline(steps=[\n",
        "    ('onehot', OneHotEncoder(handle_unknown='ignore', sparse_output=False))\n",
        "])\n",
        "\n",
        "# 4. Combine these transformers into a single 'preprocessor'\n",
        "preprocessor = ColumnTransformer(\n",
        "    transformers=[\n",
        "        ('num', numeric_transformer, numerical_features),\n",
        "        ('cat', categorical_transformer, categorical_features)\n",
        "    ])\n",
        "\n",
        "# --- Step 5: Define XGBoost Model with Specific Parameters ---\n",
        "print(\"Defining XGBoost model with provided parameters...\")"
      ]
    },
    {
      "cell_type": "code",
      "execution_count": 23,
      "metadata": {
        "colab": {
          "base_uri": "https://localhost:8080/"
        },
        "id": "9my8IYZhjjyv",
        "outputId": "87472c9f-b547-48f1-b7c7-a2d2e23a1b60"
      },
      "outputs": [
        {
          "output_type": "stream",
          "name": "stderr",
          "text": [
            "[I 2025-10-26 11:27:44,818] A new study created in memory with name: no-name-2c68cd37-f545-4463-b108-9c376ce5d30c\n"
          ]
        },
        {
          "output_type": "stream",
          "name": "stdout",
          "text": [
            "\n",
            "--- Starting Optuna Tuning (Refined Search Around Best Params) ---\n",
            "Preprocessor already fitted.\n"
          ]
        },
        {
          "output_type": "stream",
          "name": "stderr",
          "text": [
            "[I 2025-10-26 11:28:11,007] Trial 0 finished with value: 0.9213961407491487 and parameters: {'n_estimators': 1496, 'learning_rate': 0.01031835883819037, 'max_depth': 12, 'min_child_weight': 4, 'gamma': 0.7260921162238934, 'subsample': 0.6050147061572234, 'colsample_bytree': 0.5700341607606437, 'reg_alpha': 0.5429884254241379, 'reg_lambda': 0.9057386882822237}. Best is trial 0 with value: 0.9213961407491487.\n"
          ]
        },
        {
          "output_type": "stream",
          "name": "stdout",
          "text": [
            "Trial 0: Accuracy = 0.92140\n"
          ]
        },
        {
          "output_type": "stream",
          "name": "stderr",
          "text": [
            "[I 2025-10-26 11:28:36,926] Trial 1 finished with value: 0.9196935300794552 and parameters: {'n_estimators': 1399, 'learning_rate': 0.011986275824312536, 'max_depth': 8, 'min_child_weight': 5, 'gamma': 0.43514986583330145, 'subsample': 0.6566974719600327, 'colsample_bytree': 0.5973551881443357, 'reg_alpha': 0.47986601334627443, 'reg_lambda': 0.9817632070877018}. Best is trial 0 with value: 0.9213961407491487.\n"
          ]
        },
        {
          "output_type": "stream",
          "name": "stdout",
          "text": [
            "Trial 1: Accuracy = 0.91969\n"
          ]
        },
        {
          "output_type": "stream",
          "name": "stderr",
          "text": [
            "[I 2025-10-26 11:28:59,203] Trial 2 finished with value: 0.9202610669693531 and parameters: {'n_estimators': 1571, 'learning_rate': 0.01935135561943295, 'max_depth': 12, 'min_child_weight': 6, 'gamma': 0.7085840495228268, 'subsample': 0.6030590839122215, 'colsample_bytree': 0.5423340073453058, 'reg_alpha': 0.5316678975763637, 'reg_lambda': 0.8287552113156498}. Best is trial 0 with value: 0.9213961407491487.\n"
          ]
        },
        {
          "output_type": "stream",
          "name": "stdout",
          "text": [
            "Trial 2: Accuracy = 0.92026\n"
          ]
        },
        {
          "output_type": "stream",
          "name": "stderr",
          "text": [
            "[I 2025-10-26 11:29:31,088] Trial 3 finished with value: 0.9194097616345063 and parameters: {'n_estimators': 1796, 'learning_rate': 0.013954764846456882, 'max_depth': 11, 'min_child_weight': 5, 'gamma': 0.32855934083125576, 'subsample': 0.6029483459609164, 'colsample_bytree': 0.4829485804709746, 'reg_alpha': 0.5548889995835655, 'reg_lambda': 0.9910570790693466}. Best is trial 0 with value: 0.9213961407491487.\n"
          ]
        },
        {
          "output_type": "stream",
          "name": "stdout",
          "text": [
            "Trial 3: Accuracy = 0.91941\n"
          ]
        },
        {
          "output_type": "stream",
          "name": "stderr",
          "text": [
            "[I 2025-10-26 11:29:51,261] Trial 4 finished with value: 0.9228149829738933 and parameters: {'n_estimators': 1274, 'learning_rate': 0.015239911274393204, 'max_depth': 12, 'min_child_weight': 5, 'gamma': 0.5971757004029002, 'subsample': 0.7326780792686094, 'colsample_bytree': 0.4909080089706558, 'reg_alpha': 0.5574590247541422, 'reg_lambda': 0.8931217697952036}. Best is trial 4 with value: 0.9228149829738933.\n"
          ]
        },
        {
          "output_type": "stream",
          "name": "stdout",
          "text": [
            "Trial 4: Accuracy = 0.92281\n"
          ]
        },
        {
          "output_type": "stream",
          "name": "stderr",
          "text": [
            "[I 2025-10-26 11:30:18,365] Trial 5 finished with value: 0.9233825198637912 and parameters: {'n_estimators': 1783, 'learning_rate': 0.011125472978048006, 'max_depth': 9, 'min_child_weight': 6, 'gamma': 0.7200255216829214, 'subsample': 0.7313758421498151, 'colsample_bytree': 0.45038290114262775, 'reg_alpha': 0.5989918860656528, 'reg_lambda': 0.9882578683766929}. Best is trial 5 with value: 0.9233825198637912.\n"
          ]
        },
        {
          "output_type": "stream",
          "name": "stdout",
          "text": [
            "Trial 5: Accuracy = 0.92338\n"
          ]
        },
        {
          "output_type": "stream",
          "name": "stderr",
          "text": [
            "[I 2025-10-26 11:30:47,665] Trial 6 finished with value: 0.9205448354143019 and parameters: {'n_estimators': 1614, 'learning_rate': 0.01352033749884353, 'max_depth': 10, 'min_child_weight': 6, 'gamma': 0.36496170350390394, 'subsample': 0.677708426846392, 'colsample_bytree': 0.5355878005304243, 'reg_alpha': 0.7006781900987022, 'reg_lambda': 0.8116376790347049}. Best is trial 5 with value: 0.9233825198637912.\n"
          ]
        },
        {
          "output_type": "stream",
          "name": "stdout",
          "text": [
            "Trial 6: Accuracy = 0.92054\n"
          ]
        },
        {
          "output_type": "stream",
          "name": "stderr",
          "text": [
            "[I 2025-10-26 11:31:13,139] Trial 7 finished with value: 0.9205448354143019 and parameters: {'n_estimators': 1304, 'learning_rate': 0.013205557861326381, 'max_depth': 10, 'min_child_weight': 4, 'gamma': 0.3263866646971366, 'subsample': 0.7234163249160741, 'colsample_bytree': 0.5273306360195354, 'reg_alpha': 0.49967481091853, 'reg_lambda': 0.987051620401753}. Best is trial 5 with value: 0.9233825198637912.\n"
          ]
        },
        {
          "output_type": "stream",
          "name": "stdout",
          "text": [
            "Trial 7: Accuracy = 0.92054\n"
          ]
        },
        {
          "output_type": "stream",
          "name": "stderr",
          "text": [
            "[I 2025-10-26 11:31:32,708] Trial 8 finished with value: 0.9219636776390465 and parameters: {'n_estimators': 1334, 'learning_rate': 0.016581634001356364, 'max_depth': 11, 'min_child_weight': 5, 'gamma': 0.6757999570687433, 'subsample': 0.697172592580535, 'colsample_bytree': 0.552087264727877, 'reg_alpha': 0.6394801445228174, 'reg_lambda': 0.9115190772574822}. Best is trial 5 with value: 0.9233825198637912.\n"
          ]
        },
        {
          "output_type": "stream",
          "name": "stdout",
          "text": [
            "Trial 8: Accuracy = 0.92196\n"
          ]
        },
        {
          "output_type": "stream",
          "name": "stderr",
          "text": [
            "[I 2025-10-26 11:31:56,177] Trial 9 finished with value: 0.9230987514188422 and parameters: {'n_estimators': 1503, 'learning_rate': 0.018126240671999465, 'max_depth': 8, 'min_child_weight': 5, 'gamma': 0.43202231558937004, 'subsample': 0.7126968108897013, 'colsample_bytree': 0.46052564572021787, 'reg_alpha': 0.715751968569228, 'reg_lambda': 0.8315833932343417}. Best is trial 5 with value: 0.9233825198637912.\n"
          ]
        },
        {
          "output_type": "stream",
          "name": "stdout",
          "text": [
            "Trial 9: Accuracy = 0.92310\n"
          ]
        },
        {
          "output_type": "stream",
          "name": "stderr",
          "text": [
            "[I 2025-10-26 11:32:25,435] Trial 10 finished with value: 0.9233825198637912 and parameters: {'n_estimators': 1776, 'learning_rate': 0.008141316884054839, 'max_depth': 9, 'min_child_weight': 3, 'gamma': 0.794977176794633, 'subsample': 0.7401281325260428, 'colsample_bytree': 0.45129437377930676, 'reg_alpha': 0.40161099213234336, 'reg_lambda': 0.9439962182674747}. Best is trial 5 with value: 0.9233825198637912.\n"
          ]
        },
        {
          "output_type": "stream",
          "name": "stdout",
          "text": [
            "Trial 10: Accuracy = 0.92338\n"
          ]
        },
        {
          "output_type": "stream",
          "name": "stderr",
          "text": [
            "[I 2025-10-26 11:32:55,056] Trial 11 finished with value: 0.9233825198637912 and parameters: {'n_estimators': 1794, 'learning_rate': 0.008969178021694632, 'max_depth': 9, 'min_child_weight': 3, 'gamma': 0.7919789349133864, 'subsample': 0.7498290099114181, 'colsample_bytree': 0.4577780464707329, 'reg_alpha': 0.40312394374473803, 'reg_lambda': 0.9471292715462853}. Best is trial 5 with value: 0.9233825198637912.\n"
          ]
        },
        {
          "output_type": "stream",
          "name": "stdout",
          "text": [
            "Trial 11: Accuracy = 0.92338\n"
          ]
        },
        {
          "output_type": "stream",
          "name": "stderr",
          "text": [
            "[I 2025-10-26 11:33:23,586] Trial 12 finished with value: 0.9228149829738933 and parameters: {'n_estimators': 1695, 'learning_rate': 0.008165643069015733, 'max_depth': 9, 'min_child_weight': 3, 'gamma': 0.799095508211782, 'subsample': 0.7490483698386435, 'colsample_bytree': 0.48605550393296154, 'reg_alpha': 0.7740692113467154, 'reg_lambda': 0.9487659151694655}. Best is trial 5 with value: 0.9233825198637912.\n"
          ]
        },
        {
          "output_type": "stream",
          "name": "stdout",
          "text": [
            "Trial 12: Accuracy = 0.92281\n"
          ]
        },
        {
          "output_type": "stream",
          "name": "stderr",
          "text": [
            "[I 2025-10-26 11:33:51,639] Trial 13 finished with value: 0.9228149829738933 and parameters: {'n_estimators': 1710, 'learning_rate': 0.01096844097319455, 'max_depth': 9, 'min_child_weight': 3, 'gamma': 0.6194106314116357, 'subsample': 0.6978840445796382, 'colsample_bytree': 0.5044020889429703, 'reg_alpha': 0.40025004562789995, 'reg_lambda': 0.9479533241027198}. Best is trial 5 with value: 0.9233825198637912.\n"
          ]
        },
        {
          "output_type": "stream",
          "name": "stdout",
          "text": [
            "Trial 13: Accuracy = 0.92281\n"
          ]
        },
        {
          "output_type": "stream",
          "name": "stderr",
          "text": [
            "[I 2025-10-26 11:34:20,698] Trial 14 finished with value: 0.9236662883087401 and parameters: {'n_estimators': 1696, 'learning_rate': 0.009221666831824018, 'max_depth': 9, 'min_child_weight': 4, 'gamma': 0.5407982988734834, 'subsample': 0.6613613178718291, 'colsample_bytree': 0.4512926010048281, 'reg_alpha': 0.629286475374649, 'reg_lambda': 0.9642261508783605}. Best is trial 14 with value: 0.9236662883087401.\n"
          ]
        },
        {
          "output_type": "stream",
          "name": "stdout",
          "text": [
            "Trial 14: Accuracy = 0.92367\n"
          ]
        },
        {
          "output_type": "stream",
          "name": "stderr",
          "text": [
            "[I 2025-10-26 11:34:49,898] Trial 15 finished with value: 0.9230987514188422 and parameters: {'n_estimators': 1672, 'learning_rate': 0.01010968058033607, 'max_depth': 8, 'min_child_weight': 4, 'gamma': 0.5403048411802749, 'subsample': 0.6444665015317952, 'colsample_bytree': 0.47109623877835544, 'reg_alpha': 0.6309118209527601, 'reg_lambda': 0.9993191725489765}. Best is trial 14 with value: 0.9236662883087401.\n"
          ]
        },
        {
          "output_type": "stream",
          "name": "stdout",
          "text": [
            "Trial 15: Accuracy = 0.92310\n"
          ]
        },
        {
          "output_type": "stream",
          "name": "stderr",
          "text": [
            "[I 2025-10-26 11:35:17,194] Trial 16 finished with value: 0.9202610669693531 and parameters: {'n_estimators': 1620, 'learning_rate': 0.011953699030716506, 'max_depth': 10, 'min_child_weight': 6, 'gamma': 0.503236562271578, 'subsample': 0.6478281897709486, 'colsample_bytree': 0.5018513462289761, 'reg_alpha': 0.6080219898260337, 'reg_lambda': 0.8676002468915054}. Best is trial 14 with value: 0.9236662883087401.\n"
          ]
        },
        {
          "output_type": "stream",
          "name": "stdout",
          "text": [
            "Trial 16: Accuracy = 0.92026\n"
          ]
        },
        {
          "output_type": "stream",
          "name": "stderr",
          "text": [
            "[I 2025-10-26 11:35:45,961] Trial 17 finished with value: 0.9225312145289444 and parameters: {'n_estimators': 1718, 'learning_rate': 0.009463555907051868, 'max_depth': 9, 'min_child_weight': 4, 'gamma': 0.6146004433929015, 'subsample': 0.628812203268772, 'colsample_bytree': 0.5140902260566701, 'reg_alpha': 0.6679262265409506, 'reg_lambda': 0.9641359388658658}. Best is trial 14 with value: 0.9236662883087401.\n"
          ]
        },
        {
          "output_type": "stream",
          "name": "stdout",
          "text": [
            "Trial 17: Accuracy = 0.92253\n"
          ]
        },
        {
          "output_type": "stream",
          "name": "stderr",
          "text": [
            "[I 2025-10-26 11:36:12,251] Trial 18 finished with value: 0.9228149829738933 and parameters: {'n_estimators': 1530, 'learning_rate': 0.01176029911197526, 'max_depth': 11, 'min_child_weight': 6, 'gamma': 0.4843734108591136, 'subsample': 0.679144793392751, 'colsample_bytree': 0.47212358947281857, 'reg_alpha': 0.7991822388814684, 'reg_lambda': 0.9671555638734881}. Best is trial 14 with value: 0.9236662883087401.\n"
          ]
        },
        {
          "output_type": "stream",
          "name": "stdout",
          "text": [
            "Trial 18: Accuracy = 0.92281\n"
          ]
        },
        {
          "output_type": "stream",
          "name": "stderr",
          "text": [
            "[I 2025-10-26 11:36:39,344] Trial 19 finished with value: 0.9233825198637912 and parameters: {'n_estimators': 1647, 'learning_rate': 0.011015467030147677, 'max_depth': 8, 'min_child_weight': 4, 'gamma': 0.5617639403986493, 'subsample': 0.6651840006854242, 'colsample_bytree': 0.466572966586164, 'reg_alpha': 0.5888518777229654, 'reg_lambda': 0.9203490195739233}. Best is trial 14 with value: 0.9236662883087401.\n"
          ]
        },
        {
          "output_type": "stream",
          "name": "stdout",
          "text": [
            "Trial 19: Accuracy = 0.92338\n"
          ]
        },
        {
          "output_type": "stream",
          "name": "stderr",
          "text": [
            "[I 2025-10-26 11:37:03,350] Trial 20 finished with value: 0.9236662883087401 and parameters: {'n_estimators': 1735, 'learning_rate': 0.015636680980032507, 'max_depth': 9, 'min_child_weight': 6, 'gamma': 0.658278094340536, 'subsample': 0.6931053278098878, 'colsample_bytree': 0.450260767716944, 'reg_alpha': 0.7249405487850983, 'reg_lambda': 0.8792326549447592}. Best is trial 14 with value: 0.9236662883087401.\n"
          ]
        },
        {
          "output_type": "stream",
          "name": "stdout",
          "text": [
            "Trial 20: Accuracy = 0.92367\n"
          ]
        },
        {
          "output_type": "stream",
          "name": "stderr",
          "text": [
            "[I 2025-10-26 11:37:27,946] Trial 21 finished with value: 0.9225312145289444 and parameters: {'n_estimators': 1742, 'learning_rate': 0.015200016669841153, 'max_depth': 9, 'min_child_weight': 6, 'gamma': 0.6633892503472464, 'subsample': 0.695895513914456, 'colsample_bytree': 0.45347186315644467, 'reg_alpha': 0.72114163474241, 'reg_lambda': 0.8686815294883179}. Best is trial 14 with value: 0.9236662883087401.\n"
          ]
        },
        {
          "output_type": "stream",
          "name": "stdout",
          "text": [
            "Trial 21: Accuracy = 0.92253\n"
          ]
        },
        {
          "output_type": "stream",
          "name": "stderr",
          "text": [
            "[I 2025-10-26 11:37:45,805] Trial 22 finished with value: 0.9230987514188422 and parameters: {'n_estimators': 1203, 'learning_rate': 0.015469346191817598, 'max_depth': 10, 'min_child_weight': 6, 'gamma': 0.7415125595709888, 'subsample': 0.717046003836324, 'colsample_bytree': 0.47478442621403144, 'reg_alpha': 0.6736877405770335, 'reg_lambda': 0.8780478798504826}. Best is trial 14 with value: 0.9236662883087401.\n"
          ]
        },
        {
          "output_type": "stream",
          "name": "stdout",
          "text": [
            "Trial 22: Accuracy = 0.92310\n"
          ]
        },
        {
          "output_type": "stream",
          "name": "stderr",
          "text": [
            "[I 2025-10-26 11:38:09,199] Trial 23 finished with value: 0.924233825198638 and parameters: {'n_estimators': 1745, 'learning_rate': 0.017329387191492827, 'max_depth': 9, 'min_child_weight': 5, 'gamma': 0.6638998869473484, 'subsample': 0.6838434055207704, 'colsample_bytree': 0.46329884371666763, 'reg_alpha': 0.7498770938356636, 'reg_lambda': 0.9265712959463885}. Best is trial 23 with value: 0.924233825198638.\n"
          ]
        },
        {
          "output_type": "stream",
          "name": "stdout",
          "text": [
            "Trial 23: Accuracy = 0.92423\n"
          ]
        },
        {
          "output_type": "stream",
          "name": "stderr",
          "text": [
            "[I 2025-10-26 11:38:33,140] Trial 24 finished with value: 0.9228149829738933 and parameters: {'n_estimators': 1736, 'learning_rate': 0.01731663873132585, 'max_depth': 8, 'min_child_weight': 5, 'gamma': 0.6434527343276377, 'subsample': 0.6868279645287685, 'colsample_bytree': 0.49481773270375307, 'reg_alpha': 0.7630085042302686, 'reg_lambda': 0.9254873793599337}. Best is trial 23 with value: 0.924233825198638.\n"
          ]
        },
        {
          "output_type": "stream",
          "name": "stdout",
          "text": [
            "Trial 24: Accuracy = 0.92281\n"
          ]
        },
        {
          "output_type": "stream",
          "name": "stderr",
          "text": [
            "[I 2025-10-26 11:38:54,429] Trial 25 finished with value: 0.923950056753689 and parameters: {'n_estimators': 1431, 'learning_rate': 0.019981456320233695, 'max_depth': 10, 'min_child_weight': 4, 'gamma': 0.5688578469588738, 'subsample': 0.6670241307084749, 'colsample_bytree': 0.4789595512273446, 'reg_alpha': 0.7385176841564797, 'reg_lambda': 0.8475080196172949}. Best is trial 23 with value: 0.924233825198638.\n"
          ]
        },
        {
          "output_type": "stream",
          "name": "stdout",
          "text": [
            "Trial 25: Accuracy = 0.92395\n"
          ]
        },
        {
          "output_type": "stream",
          "name": "stderr",
          "text": [
            "[I 2025-10-26 11:39:13,877] Trial 26 finished with value: 0.9236662883087401 and parameters: {'n_estimators': 1424, 'learning_rate': 0.01979773004473275, 'max_depth': 10, 'min_child_weight': 4, 'gamma': 0.572720058774094, 'subsample': 0.6671565412876427, 'colsample_bytree': 0.4791212547105583, 'reg_alpha': 0.7581167362003216, 'reg_lambda': 0.8450260187397031}. Best is trial 23 with value: 0.924233825198638.\n"
          ]
        },
        {
          "output_type": "stream",
          "name": "stdout",
          "text": [
            "Trial 26: Accuracy = 0.92367\n"
          ]
        },
        {
          "output_type": "stream",
          "name": "stderr",
          "text": [
            "[I 2025-10-26 11:39:36,132] Trial 27 finished with value: 0.9222474460839954 and parameters: {'n_estimators': 1385, 'learning_rate': 0.018719203491246242, 'max_depth': 11, 'min_child_weight': 4, 'gamma': 0.5195341686428203, 'subsample': 0.6281144312577475, 'colsample_bytree': 0.514160205340238, 'reg_alpha': 0.6783813340567768, 'reg_lambda': 0.9297320454217466}. Best is trial 23 with value: 0.924233825198638.\n"
          ]
        },
        {
          "output_type": "stream",
          "name": "stdout",
          "text": [
            "Trial 27: Accuracy = 0.92225\n"
          ]
        },
        {
          "output_type": "stream",
          "name": "stderr",
          "text": [
            "[I 2025-10-26 11:39:59,581] Trial 28 finished with value: 0.9230987514188422 and parameters: {'n_estimators': 1462, 'learning_rate': 0.017699504115078875, 'max_depth': 10, 'min_child_weight': 4, 'gamma': 0.46364816421057864, 'subsample': 0.6331636933761958, 'colsample_bytree': 0.4651338331597495, 'reg_alpha': 0.7983609255373925, 'reg_lambda': 0.8031047935791235}. Best is trial 23 with value: 0.924233825198638.\n"
          ]
        },
        {
          "output_type": "stream",
          "name": "stdout",
          "text": [
            "Trial 28: Accuracy = 0.92310\n"
          ]
        },
        {
          "output_type": "stream",
          "name": "stderr",
          "text": [
            "[I 2025-10-26 11:40:23,711] Trial 29 finished with value: 0.9222474460839954 and parameters: {'n_estimators': 1552, 'learning_rate': 0.016816059656904216, 'max_depth': 10, 'min_child_weight': 5, 'gamma': 0.5809684807219238, 'subsample': 0.6173817761909728, 'colsample_bytree': 0.5684266768397112, 'reg_alpha': 0.7458866848749968, 'reg_lambda': 0.898335490342651}. Best is trial 23 with value: 0.924233825198638.\n"
          ]
        },
        {
          "output_type": "stream",
          "name": "stdout",
          "text": [
            "Trial 29: Accuracy = 0.92225\n"
          ]
        },
        {
          "output_type": "stream",
          "name": "stderr",
          "text": [
            "[I 2025-10-26 11:40:46,150] Trial 30 finished with value: 0.9236662883087401 and parameters: {'n_estimators': 1464, 'learning_rate': 0.01871229285225662, 'max_depth': 9, 'min_child_weight': 3, 'gamma': 0.535329309452125, 'subsample': 0.6652555539070605, 'colsample_bytree': 0.49785991899340576, 'reg_alpha': 0.6489234356777841, 'reg_lambda': 0.9682029438847496}. Best is trial 23 with value: 0.924233825198638.\n"
          ]
        },
        {
          "output_type": "stream",
          "name": "stdout",
          "text": [
            "Trial 30: Accuracy = 0.92367\n"
          ]
        },
        {
          "output_type": "stream",
          "name": "stderr",
          "text": [
            "[I 2025-10-26 11:41:07,816] Trial 31 finished with value: 0.9245175936435869 and parameters: {'n_estimators': 1661, 'learning_rate': 0.01602609869354831, 'max_depth': 9, 'min_child_weight': 4, 'gamma': 0.6845093394490588, 'subsample': 0.6891201284370663, 'colsample_bytree': 0.46546749003718135, 'reg_alpha': 0.7236095552936783, 'reg_lambda': 0.8484772555758006}. Best is trial 31 with value: 0.9245175936435869.\n"
          ]
        },
        {
          "output_type": "stream",
          "name": "stdout",
          "text": [
            "Trial 31: Accuracy = 0.92452\n"
          ]
        },
        {
          "output_type": "stream",
          "name": "stderr",
          "text": [
            "[I 2025-10-26 11:41:31,022] Trial 32 finished with value: 0.9228149829738933 and parameters: {'n_estimators': 1614, 'learning_rate': 0.01626376489512493, 'max_depth': 8, 'min_child_weight': 4, 'gamma': 0.6924643690328043, 'subsample': 0.6504443133872316, 'colsample_bytree': 0.4632724546784666, 'reg_alpha': 0.6948459079096607, 'reg_lambda': 0.8535973597230379}. Best is trial 31 with value: 0.9245175936435869.\n"
          ]
        },
        {
          "output_type": "stream",
          "name": "stdout",
          "text": [
            "Trial 32: Accuracy = 0.92281\n"
          ]
        },
        {
          "output_type": "stream",
          "name": "stderr",
          "text": [
            "[I 2025-10-26 11:41:57,383] Trial 33 finished with value: 0.9213961407491487 and parameters: {'n_estimators': 1672, 'learning_rate': 0.014494496671500007, 'max_depth': 9, 'min_child_weight': 4, 'gamma': 0.741056600836737, 'subsample': 0.7079038421115174, 'colsample_bytree': 0.591879421009274, 'reg_alpha': 0.7315590152049227, 'reg_lambda': 0.8480699014020473}. Best is trial 31 with value: 0.9245175936435869.\n"
          ]
        },
        {
          "output_type": "stream",
          "name": "stdout",
          "text": [
            "Trial 33: Accuracy = 0.92140\n"
          ]
        },
        {
          "output_type": "stream",
          "name": "stderr",
          "text": [
            "[I 2025-10-26 11:42:19,888] Trial 34 finished with value: 0.9222474460839954 and parameters: {'n_estimators': 1577, 'learning_rate': 0.019068431548019633, 'max_depth': 9, 'min_child_weight': 5, 'gamma': 0.6226264303323551, 'subsample': 0.6847959476799804, 'colsample_bytree': 0.4786721716550733, 'reg_alpha': 0.6996962290391625, 'reg_lambda': 0.9057866585664713}. Best is trial 31 with value: 0.9245175936435869.\n"
          ]
        },
        {
          "output_type": "stream",
          "name": "stdout",
          "text": [
            "Trial 34: Accuracy = 0.92225\n"
          ]
        },
        {
          "output_type": "stream",
          "name": "stderr",
          "text": [
            "[I 2025-10-26 11:42:42,755] Trial 35 finished with value: 0.9225312145289444 and parameters: {'n_estimators': 1379, 'learning_rate': 0.01973435630669892, 'max_depth': 10, 'min_child_weight': 4, 'gamma': 0.40628427559037994, 'subsample': 0.6706696839919805, 'colsample_bytree': 0.4860021404018764, 'reg_alpha': 0.7755115379079145, 'reg_lambda': 0.8250712288198973}. Best is trial 31 with value: 0.9245175936435869.\n"
          ]
        },
        {
          "output_type": "stream",
          "name": "stdout",
          "text": [
            "Trial 35: Accuracy = 0.92253\n"
          ]
        },
        {
          "output_type": "stream",
          "name": "stderr",
          "text": [
            "[I 2025-10-26 11:43:06,677] Trial 36 finished with value: 0.9233825198637912 and parameters: {'n_estimators': 1661, 'learning_rate': 0.01812203515733329, 'max_depth': 11, 'min_child_weight': 5, 'gamma': 0.5924403820877956, 'subsample': 0.6570448945145149, 'colsample_bytree': 0.4600524735588762, 'reg_alpha': 0.743771981468406, 'reg_lambda': 0.8868023496755643}. Best is trial 31 with value: 0.9245175936435869.\n"
          ]
        },
        {
          "output_type": "stream",
          "name": "stdout",
          "text": [
            "Trial 36: Accuracy = 0.92338\n"
          ]
        },
        {
          "output_type": "stream",
          "name": "stderr",
          "text": [
            "[I 2025-10-26 11:43:32,185] Trial 37 finished with value: 0.9233825198637912 and parameters: {'n_estimators': 1761, 'learning_rate': 0.012794721315717943, 'max_depth': 8, 'min_child_weight': 4, 'gamma': 0.7593469244014653, 'subsample': 0.6581838134056488, 'colsample_bytree': 0.4890828886574199, 'reg_alpha': 0.6590241286108194, 'reg_lambda': 0.8582092053104453}. Best is trial 31 with value: 0.9245175936435869.\n"
          ]
        },
        {
          "output_type": "stream",
          "name": "stdout",
          "text": [
            "Trial 37: Accuracy = 0.92338\n"
          ]
        },
        {
          "output_type": "stream",
          "name": "stderr",
          "text": [
            "[I 2025-10-26 11:43:54,385] Trial 38 finished with value: 0.9250851305334846 and parameters: {'n_estimators': 1597, 'learning_rate': 0.01452211141490541, 'max_depth': 12, 'min_child_weight': 5, 'gamma': 0.6985265792741071, 'subsample': 0.7050056223404357, 'colsample_bytree': 0.4686281411833096, 'reg_alpha': 0.5740823340642535, 'reg_lambda': 0.832267917170442}. Best is trial 38 with value: 0.9250851305334846.\n"
          ]
        },
        {
          "output_type": "stream",
          "name": "stdout",
          "text": [
            "Trial 38: Accuracy = 0.92509\n"
          ]
        },
        {
          "output_type": "stream",
          "name": "stderr",
          "text": [
            "[I 2025-10-26 11:44:17,160] Trial 39 finished with value: 0.9236662883087401 and parameters: {'n_estimators': 1595, 'learning_rate': 0.015919685137706, 'max_depth': 12, 'min_child_weight': 5, 'gamma': 0.6968699585922729, 'subsample': 0.7033824897643698, 'colsample_bytree': 0.47133835538486274, 'reg_alpha': 0.5152620453149217, 'reg_lambda': 0.8339328059914278}. Best is trial 38 with value: 0.9250851305334846.\n"
          ]
        },
        {
          "output_type": "stream",
          "name": "stdout",
          "text": [
            "Trial 39: Accuracy = 0.92367\n"
          ]
        },
        {
          "output_type": "stream",
          "name": "stderr",
          "text": [
            "[I 2025-10-26 11:44:40,733] Trial 40 finished with value: 0.924233825198638 and parameters: {'n_estimators': 1532, 'learning_rate': 0.014344530296817717, 'max_depth': 12, 'min_child_weight': 5, 'gamma': 0.7165750279617984, 'subsample': 0.6866249575292788, 'colsample_bytree': 0.5064931091917587, 'reg_alpha': 0.581960622533727, 'reg_lambda': 0.8179920256742877}. Best is trial 38 with value: 0.9250851305334846.\n"
          ]
        },
        {
          "output_type": "stream",
          "name": "stdout",
          "text": [
            "Trial 40: Accuracy = 0.92423\n"
          ]
        },
        {
          "output_type": "stream",
          "name": "stderr",
          "text": [
            "[I 2025-10-26 11:45:04,161] Trial 41 finished with value: 0.9233825198637912 and parameters: {'n_estimators': 1532, 'learning_rate': 0.014561321077327516, 'max_depth': 12, 'min_child_weight': 5, 'gamma': 0.7197734390933277, 'subsample': 0.6865293209475655, 'colsample_bytree': 0.5113398287815695, 'reg_alpha': 0.5708333345480892, 'reg_lambda': 0.8151093843934085}. Best is trial 38 with value: 0.9250851305334846.\n"
          ]
        },
        {
          "output_type": "stream",
          "name": "stdout",
          "text": [
            "Trial 41: Accuracy = 0.92338\n"
          ]
        },
        {
          "output_type": "stream",
          "name": "stderr",
          "text": [
            "[I 2025-10-26 11:45:27,299] Trial 42 finished with value: 0.923950056753689 and parameters: {'n_estimators': 1470, 'learning_rate': 0.014108769510254578, 'max_depth': 12, 'min_child_weight': 5, 'gamma': 0.6838896096291427, 'subsample': 0.6811442034332624, 'colsample_bytree': 0.4797857278409636, 'reg_alpha': 0.5664643101545425, 'reg_lambda': 0.8205400952132935}. Best is trial 38 with value: 0.9250851305334846.\n"
          ]
        },
        {
          "output_type": "stream",
          "name": "stdout",
          "text": [
            "Trial 42: Accuracy = 0.92395\n"
          ]
        },
        {
          "output_type": "stream",
          "name": "stderr",
          "text": [
            "[I 2025-10-26 11:45:48,569] Trial 43 finished with value: 0.9216799091940976 and parameters: {'n_estimators': 1416, 'learning_rate': 0.013080800019219976, 'max_depth': 11, 'min_child_weight': 5, 'gamma': 0.7597357727783098, 'subsample': 0.7051117712842238, 'colsample_bytree': 0.5217988094745424, 'reg_alpha': 0.5351515806001329, 'reg_lambda': 0.8368086232093906}. Best is trial 38 with value: 0.9250851305334846.\n"
          ]
        },
        {
          "output_type": "stream",
          "name": "stdout",
          "text": [
            "Trial 43: Accuracy = 0.92168\n"
          ]
        },
        {
          "output_type": "stream",
          "name": "stderr",
          "text": [
            "[I 2025-10-26 11:46:11,852] Trial 44 finished with value: 0.9228149829738933 and parameters: {'n_estimators': 1507, 'learning_rate': 0.014798499875878583, 'max_depth': 12, 'min_child_weight': 5, 'gamma': 0.6445701050856059, 'subsample': 0.6755076131489072, 'colsample_bytree': 0.4678107791328268, 'reg_alpha': 0.4551801206900728, 'reg_lambda': 0.8048153987442884}. Best is trial 38 with value: 0.9250851305334846.\n"
          ]
        },
        {
          "output_type": "stream",
          "name": "stdout",
          "text": [
            "Trial 44: Accuracy = 0.92281\n"
          ]
        },
        {
          "output_type": "stream",
          "name": "stderr",
          "text": [
            "[I 2025-10-26 11:46:34,935] Trial 45 finished with value: 0.9213961407491487 and parameters: {'n_estimators': 1643, 'learning_rate': 0.01690808943512575, 'max_depth': 11, 'min_child_weight': 5, 'gamma': 0.7169825575579095, 'subsample': 0.7211532310366925, 'colsample_bytree': 0.5393523581815058, 'reg_alpha': 0.609146277095852, 'reg_lambda': 0.8135931962592448}. Best is trial 38 with value: 0.9250851305334846.\n"
          ]
        },
        {
          "output_type": "stream",
          "name": "stdout",
          "text": [
            "Trial 45: Accuracy = 0.92140\n"
          ]
        },
        {
          "output_type": "stream",
          "name": "stderr",
          "text": [
            "[I 2025-10-26 11:46:57,670] Trial 46 finished with value: 0.9228149829738933 and parameters: {'n_estimators': 1572, 'learning_rate': 0.01619980107732592, 'max_depth': 12, 'min_child_weight': 5, 'gamma': 0.7661921822544228, 'subsample': 0.692999308732841, 'colsample_bytree': 0.5300724653097624, 'reg_alpha': 0.5469574719150998, 'reg_lambda': 0.8423215637348564}. Best is trial 38 with value: 0.9250851305334846.\n"
          ]
        },
        {
          "output_type": "stream",
          "name": "stdout",
          "text": [
            "Trial 46: Accuracy = 0.92281\n"
          ]
        },
        {
          "output_type": "stream",
          "name": "stderr",
          "text": [
            "[I 2025-10-26 11:47:21,559] Trial 47 finished with value: 0.9233825198637912 and parameters: {'n_estimators': 1543, 'learning_rate': 0.013724152317429782, 'max_depth': 11, 'min_child_weight': 5, 'gamma': 0.703872314813843, 'subsample': 0.6724163907112635, 'colsample_bytree': 0.49231104514746304, 'reg_alpha': 0.5857588063005695, 'reg_lambda': 0.857356449847221}. Best is trial 38 with value: 0.9250851305334846.\n"
          ]
        },
        {
          "output_type": "stream",
          "name": "stdout",
          "text": [
            "Trial 47: Accuracy = 0.92338\n"
          ]
        },
        {
          "output_type": "stream",
          "name": "stderr",
          "text": [
            "[I 2025-10-26 11:47:45,698] Trial 48 finished with value: 0.9222474460839954 and parameters: {'n_estimators': 1492, 'learning_rate': 0.012671087868246, 'max_depth': 12, 'min_child_weight': 5, 'gamma': 0.6658876349898837, 'subsample': 0.7112770492269078, 'colsample_bytree': 0.5476419891424117, 'reg_alpha': 0.5035993745877716, 'reg_lambda': 0.8240269122067017}. Best is trial 38 with value: 0.9250851305334846.\n"
          ]
        },
        {
          "output_type": "stream",
          "name": "stdout",
          "text": [
            "Trial 48: Accuracy = 0.92225\n"
          ]
        },
        {
          "output_type": "stream",
          "name": "stderr",
          "text": [
            "[I 2025-10-26 11:48:06,129] Trial 49 finished with value: 0.9236662883087401 and parameters: {'n_estimators': 1334, 'learning_rate': 0.014942468642067778, 'max_depth': 10, 'min_child_weight': 4, 'gamma': 0.6340883758445197, 'subsample': 0.6996819691011831, 'colsample_bytree': 0.5077995987096731, 'reg_alpha': 0.46975380294573443, 'reg_lambda': 0.8671222336697646}. Best is trial 38 with value: 0.9250851305334846.\n"
          ]
        },
        {
          "output_type": "stream",
          "name": "stdout",
          "text": [
            "Trial 49: Accuracy = 0.92367\n",
            "\n",
            "--- Optuna Optimization Complete ---\n",
            "Best Validation Accuracy: 0.92509\n",
            "Best Hyperparameters:\n",
            "{'n_estimators': 1597, 'learning_rate': 0.01452211141490541, 'max_depth': 12, 'min_child_weight': 5, 'gamma': 0.6985265792741071, 'subsample': 0.7050056223404357, 'colsample_bytree': 0.4686281411833096, 'reg_alpha': 0.5740823340642535, 'reg_lambda': 0.832267917170442}\n"
          ]
        }
      ],
      "source": [
        "!pip install optuna -q\n",
        "\n",
        "import optuna\n",
        "import json\n",
        "from sklearn.metrics import accuracy_score\n",
        "import xgboost as xgb\n",
        "import matplotlib.pyplot as plt\n",
        "from sklearn.preprocessing import LabelEncoder # Ensure LabelEncoder is imported if not already\n",
        "import pandas as pd # Import pandas\n",
        "from sklearn.compose import ColumnTransformer # Import ColumnTransformer\n",
        "from sklearn.pipeline import Pipeline # Import Pipeline\n",
        "from sklearn.preprocessing import StandardScaler, OneHotEncoder # Import necessary preprocessors\n",
        "from sklearn.exceptions import NotFittedError # Import NotFittedError\n",
        "\n",
        "print(\"\\n--- Starting Optuna Tuning (Refined Search Around Best Params) ---\")\n",
        "\n",
        "# Ensure train/val split exists and preprocessor is defined\n",
        "# Assuming X, y, X_train, X_val, y_train, y_val, preprocessor, categorical_features are already defined\n",
        "\n",
        "# --- Define Objective Function ---\n",
        "def objective(trial):\n",
        "    params = {\n",
        "        'n_estimators': trial.suggest_int('n_estimators', 1200, 1800),              # around 1513\n",
        "        'learning_rate': trial.suggest_float('learning_rate', 0.008, 0.02),        # around 0.0124\n",
        "        'max_depth': trial.suggest_int('max_depth', 8, 12),                        # around 10\n",
        "        'min_child_weight': trial.suggest_int('min_child_weight', 3, 6),           # around 4\n",
        "        'gamma': trial.suggest_float('gamma', 0.3, 0.8),                           # around 0.53\n",
        "        'subsample': trial.suggest_float('subsample', 0.6, 0.75),                  # around 0.67\n",
        "        'colsample_bytree': trial.suggest_float('colsample_bytree', 0.45, 0.6),    # around 0.50\n",
        "        'reg_alpha': trial.suggest_float('reg_alpha', 0.4, 0.8),                   # around 0.61\n",
        "        'reg_lambda': trial.suggest_float('reg_lambda', 0.8, 1.0),                 # around 0.91\n",
        "        'objective': 'multi:softprob',\n",
        "        'eval_metric': 'mlogloss',\n",
        "        'random_state': 42,\n",
        "        'n_jobs': -1,\n",
        "    }\n",
        "\n",
        "    model = xgb.XGBClassifier(**params)\n",
        "\n",
        "    # Explicitly convert categorical columns to 'category' dtype before transforming\n",
        "    # Operate on copies to avoid modifying the original X_train/X_val DataFrames\n",
        "    X_train_temp = X_train.copy()\n",
        "    X_val_temp = X_val.copy()\n",
        "\n",
        "    for col in categorical_features:\n",
        "        X_train_temp[col] = X_train_temp[col].astype('category')\n",
        "        X_val_temp[col] = X_val_temp[col].astype('category')\n",
        "\n",
        "    # Apply the preprocessor (already fitted outside)\n",
        "    X_train_proc = preprocessor.transform(X_train_temp)\n",
        "    X_val_proc = preprocessor.transform(X_val_temp)\n",
        "\n",
        "    model.fit(X_train_proc, y_train)\n",
        "    preds = model.predict(X_val_proc)\n",
        "    acc = accuracy_score(y_val, preds)\n",
        "\n",
        "    print(f\"Trial {trial.number}: Accuracy = {acc:.5f}\")\n",
        "    return acc\n",
        "\n",
        "# --- Run Optimization ---\n",
        "\n",
        "try:\n",
        "    preprocessor.transform(X_train.head(1)) # Attempt transform to check if fitted\n",
        "    print(\"Preprocessor already fitted.\")\n",
        "except NotFittedError:\n",
        "    print(\"Fitting preprocessor...\")\n",
        "    preprocessor.fit(X_train)\n",
        "    print(\"Preprocessor fitted.\")\n",
        "except NameError:\n",
        "     print(\"Preprocessor not defined. Please ensure preprocessor is defined in a previous cell.\")\n",
        "     exit()\n",
        "\n",
        "\n",
        "study = optuna.create_study(direction='maximize')\n",
        "study.optimize(objective, n_trials=50) # Reduced trials for demonstration\n",
        "\n",
        "print(\"\\n--- Optuna Optimization Complete ---\")\n",
        "print(f\"Best Validation Accuracy: {study.best_value:.5f}\")\n",
        "print(\"Best Hyperparameters:\")\n",
        "print(study.best_params)"
      ]
    },
    {
      "cell_type": "code",
      "execution_count": 24,
      "metadata": {
        "id": "yQ1aoOX0xC7g"
      },
      "outputs": [],
      "source": [
        "xgb_params = study.best_params"
      ]
    },
    {
      "cell_type": "code",
      "source": [
        "# Correct the import statement for XGBClassifier\n",
        "from xgboost import XGBClassifier\n",
        "from sklearn.metrics import accuracy_score, classification_report, confusion_matrix\n",
        "from sklearn.model_selection import cross_val_score\n",
        "from tqdm import tqdm\n",
        "import seaborn as sb\n",
        "import matplotlib.pyplot as plt\n",
        "import numpy as np\n",
        "\n",
        "\n",
        "xgb_params={\n",
        "    'n_estimators': 1597,\n",
        "    'learning_rate': 0.01452211141490541,\n",
        "    'max_depth': 12,\n",
        "    'min_child_weight': 5,\n",
        "    'gamma': 0.6985265792741071,\n",
        "    'subsample': 0.7050056223404357,\n",
        "    'colsample_bytree': 0.4686281411833096,\n",
        "    'reg_alpha': 0.5740823340642535,\n",
        "    'reg_lambda': 0.832267917170442\n",
        "}\n",
        "\n",
        "# -------------------------------\n",
        "# Model dictionary for iteration\n",
        "# -------------------------------\n",
        "models = {\n",
        "    \"XGBoost\": XGBClassifier(**xgb_params, random_state=42)\n",
        "}\n",
        "\n",
        "# -------------------------------\n",
        "# Preprocess data\n",
        "# -------------------------------\n",
        "X_train_processed = preprocessor.transform(X_train)\n",
        "X_val_processed = preprocessor.transform(X_val)\n",
        "\n",
        "# -------------------------------\n",
        "# Train and evaluate each model\n",
        "# -------------------------------\n",
        "for name, model in models.items():\n",
        "    print(f\"\\n{'='*20} {name} {'='*20}\")\n",
        "\n",
        "    # Cross-validation accuracy\n",
        "    cv_score = cross_val_score(model, X_train_processed, y_train, cv=5, scoring='accuracy', n_jobs=-1).mean()\n",
        "    print(f\"Cross-Validation Accuracy: {cv_score:.4f}\")\n",
        "\n",
        "    # Train the model\n",
        "    model.fit(X_train_processed, y_train)\n",
        "\n",
        "    # Predictions\n",
        "    y_pred = model.predict(X_val_processed)\n",
        "    y_pred = y_pred.astype(int)\n",
        "\n",
        "    # Accuracy\n",
        "    acc = accuracy_score(y_val, y_pred)\n",
        "    print(f\"Validation Accuracy: {acc:.4f}\")\n",
        "    print(classification_report(y_val, y_pred))\n",
        "\n",
        "    # Confusion Matrix\n",
        "    cm = confusion_matrix(y_val, y_pred)\n",
        "    cm_percentage = cm / cm.sum(axis=1, keepdims=True) * 100\n",
        "\n",
        "    # Plot Confusion Matrix\n",
        "    plt.figure(figsize=(8, 6))\n",
        "    sb.heatmap(cm_percentage, annot=True, fmt='.2f', cmap='Blues',\n",
        "               xticklabels=le.classes_, yticklabels=le.classes_)\n",
        "    plt.xlabel('Predicted')\n",
        "    plt.ylabel('True')\n",
        "    plt.title(f'{name} - Confusion Matrix')\n",
        "    plt.show()"
      ],
      "metadata": {
        "colab": {
          "base_uri": "https://localhost:8080/",
          "height": 1000
        },
        "id": "fpwK1ImnuAGg",
        "outputId": "0f2fcf10-7166-4121-ff73-3a7a91de8029"
      },
      "execution_count": 39,
      "outputs": [
        {
          "output_type": "stream",
          "name": "stdout",
          "text": [
            "\n",
            "==================== XGBoost ====================\n",
            "Cross-Validation Accuracy: 0.9141\n",
            "Validation Accuracy: 0.9251\n",
            "              precision    recall  f1-score   support\n",
            "\n",
            "           0       0.95      0.95      0.95       428\n",
            "           1       0.89      0.90      0.90       525\n",
            "           2       0.93      0.92      0.92       512\n",
            "           3       0.97      0.99      0.98       540\n",
            "           4       1.00      1.00      1.00       661\n",
            "           5       0.84      0.81      0.82       424\n",
            "           6       0.87      0.86      0.86       434\n",
            "\n",
            "    accuracy                           0.93      3524\n",
            "   macro avg       0.92      0.92      0.92      3524\n",
            "weighted avg       0.92      0.93      0.92      3524\n",
            "\n"
          ]
        },
        {
          "output_type": "display_data",
          "data": {
            "text/plain": [
              "<Figure size 800x600 with 2 Axes>"
            ],
            "image/png": "[encoded data removed]"
          },
          "metadata": {}
        }
      ]
    },
    {
      "cell_type": "code",
      "execution_count": 25,
      "metadata": {
        "colab": {
          "base_uri": "https://localhost:8080/"
        },
        "id": "HZofrMsWjnxv",
        "outputId": "bb090979-406d-42db-b9bf-4dd45550c26b"
      },
      "outputs": [
        {
          "output_type": "stream",
          "name": "stdout",
          "text": [
            "Training model on X_train, y_train...\n",
            "Evaluating model on validation set...\n",
            "Accuracy on validation set (unseen data): 0.92168\n",
            "Training final model on all combined data (X, y)...\n",
            "Final model training complete.\n",
            "Generating submission file...\n"
          ]
        }
      ],
      "source": [
        "classifier = xgb.XGBClassifier(**xgb_params)\n",
        "\n",
        "# 2. Create the full pipeline: Preprocessing + Classification\n",
        "full_pipeline = Pipeline(steps=[\n",
        "    ('preprocessor', preprocessor),\n",
        "    ('classifier', classifier)\n",
        "])\n",
        "# --- Step 6: Train on Training Set and Validate ---\n",
        "print(\"Training model on X_train, y_train...\")\n",
        "full_pipeline.fit(X_train, y_train)\n",
        "\n",
        "# Validate on the hold-out set\n",
        "print(\"Evaluating model on validation set...\")\n",
        "y_pred_val = full_pipeline.predict(X_val)\n",
        "val_accuracy = accuracy_score(y_val, y_pred_val)\n",
        "\n",
        "print(f\"Accuracy on validation set (unseen data): {val_accuracy:.5f}\")\n",
        "\n",
        "\n",
        "# --- Step 7: Train Final Model on ALL Data ---\n",
        "print(\"Training final model on all combined data (X, y)...\")\n",
        "\n",
        "\n",
        "final_pipeline = Pipeline(steps=[\n",
        "    ('preprocessor', preprocessor),\n",
        "    ('classifier', xgb.XGBClassifier(**xgb_params))\n",
        "])\n",
        "\n",
        "final_pipeline.fit(X, y)\n",
        "print(\"Final model training complete.\")\n",
        "\n",
        "# --- Step 8: Generate Submission File ---\n",
        "print(\"Generating submission file...\")\n",
        "\n",
        "# 1. Prepare the test data (drop 'id')\n",
        "X_test = test_df.drop('id', axis=1)\n",
        "test_ids = test_df['id']"
      ]
    },
    {
      "cell_type": "code",
      "execution_count": 26,
      "metadata": {
        "colab": {
          "base_uri": "https://localhost:8080/"
        },
        "id": "K-9-zMzCjrlh",
        "outputId": "0ba73a2f-28a4-4edd-c4cb-90ef923848e8"
      },
      "outputs": [
        {
          "output_type": "stream",
          "name": "stdout",
          "text": [
            "\n",
            "--- 'submission.csv' created successfully! ---\n",
            "Submission file head:\n",
            "      id       WeightCategory\n",
            "0  15533     Obesity_Type_III\n",
            "1  15534   Overweight_Level_I\n",
            "2  15535  Overweight_Level_II\n",
            "3  15536      Obesity_Type_II\n",
            "4  15537        Normal_Weight\n"
          ]
        }
      ],
      "source": [
        "# 2. Make predictions on the test set\n",
        "test_predictions_encoded = final_pipeline.predict(X_test)\n",
        "\n",
        "# 3. Decode the numeric predictions back into string labels\n",
        "test_predictions_labels = le.inverse_transform(test_predictions_encoded)\n",
        "\n",
        "# 4. Create the submission DataFrame\n",
        "submission_df = pd.DataFrame({\n",
        "    'id': test_ids,\n",
        "    'WeightCategory': test_predictions_labels\n",
        "})\n",
        "\n",
        "# 5. Save to CSV\n",
        "submission_df.to_csv('submission.csv', index=False)\n",
        "print(\"\\n--- 'submission.csv' created successfully! ---\")\n",
        "print(\"Submission file head:\")\n",
        "print(submission_df.head())"
      ]
    },
    {
      "cell_type": "code",
      "source": [
        "-------------------------------------------------------------------#FOR ALL OTHER MODELS----------------------------------------------------------------------"
      ],
      "metadata": {
        "id": "tp7OeCXgmC_l"
      },
      "execution_count": null,
      "outputs": []
    },
    {
      "cell_type": "code",
      "source": [
        "#########################################################----------RANDOM_FOREST------------##################################################################"
      ],
      "metadata": {
        "id": "S1OhuRtFwRGH"
      },
      "execution_count": null,
      "outputs": []
    },
    {
      "cell_type": "code",
      "source": [
        "!pip install optuna -q\n",
        "import pandas as pd\n",
        "from sklearn.ensemble import RandomForestClassifier, GradientBoostingClassifier, AdaBoostClassifier\n",
        "from sklearn.metrics import accuracy_score\n",
        "from sklearn.exceptions import NotFittedError\n",
        "from sklearn.pipeline import Pipeline\n",
        "import optuna\n",
        "\n",
        "print(\"\\n--- Starting Optuna Tuning ---\")\n",
        "\n",
        "# --- Ensure preprocessor is fitted ---\n",
        "try:\n",
        "    preprocessor.transform(X_train.head(1))\n",
        "    print(\"Preprocessor already fitted.\")\n",
        "except NotFittedError:\n",
        "    print(\"Fitting preprocessor...\")\n",
        "    preprocessor.fit(X_train)\n",
        "    print(\"Preprocessor fitted.\")\n",
        "except NameError:\n",
        "    print(\"Preprocessor not defined. Please define preprocessor first.\")\n",
        "    exit()\n",
        "\n",
        "# --- Objective Functions ---\n",
        "def objective_rf(trial):\n",
        "    params = {\n",
        "    'n_estimators': trial.suggest_int('n_estimators', 1000, 1500),\n",
        "    'max_depth': trial.suggest_int('max_depth', 8, 12),\n",
        "    'min_samples_split': trial.suggest_int('min_samples_split', 5, 10),\n",
        "    'min_samples_leaf': trial.suggest_int('min_samples_leaf', 1, 5),\n",
        "    'max_features': trial.suggest_categorical('max_features', ['sqrt','log2']),\n",
        "    'bootstrap': trial.suggest_categorical('bootstrap', [True, False]),\n",
        "    'random_state': 42,\n",
        "    'n_jobs': -1\n",
        "}\n",
        "\n",
        "    model = RandomForestClassifier(**params)\n",
        "    X_train_proc = preprocessor.transform(X_train)\n",
        "    X_val_proc = preprocessor.transform(X_val)\n",
        "    model.fit(X_train_proc, y_train)\n",
        "    return accuracy_score(y_val, model.predict(X_val_proc))\n",
        "\n",
        "def objective_gb(trial):\n",
        "    params = {\n",
        "    'n_estimators': trial.suggest_int('n_estimators', 1000, 1500),\n",
        "    'learning_rate': trial.suggest_float('learning_rate', 0.04, 0.08),\n",
        "    'max_depth': trial.suggest_int('max_depth', 8, 12),\n",
        "    'min_samples_split': trial.suggest_int('min_samples_split', 5, 10),\n",
        "    'min_samples_leaf': trial.suggest_int('min_samples_leaf', 1, 5),\n",
        "    'subsample': trial.suggest_float('subsample', 0.8, 0.95),\n",
        "    'max_features': trial.suggest_categorical('max_features', ['sqrt','log2']),\n",
        "    'random_state': 42\n",
        "}\n",
        "\n",
        "    model = GradientBoostingClassifier(**params)\n",
        "    X_train_proc = preprocessor.transform(X_train)\n",
        "    X_val_proc = preprocessor.transform(X_val)\n",
        "    model.fit(X_train_proc, y_train)\n",
        "    return accuracy_score(y_val, model.predict(X_val_proc))\n",
        "\n",
        "\n",
        "def objective_ada(trial):\n",
        "    params = {\n",
        "    'n_estimators': trial.suggest_int('n_estimators', 500, 1500),\n",
        "    'learning_rate': trial.suggest_float('learning_rate', 0.04, 0.08),\n",
        "    'algorithm': trial.suggest_categorical('algorithm', ['SAMME']),\n",
        "    'random_state': 42\n",
        "}\n",
        "    model = AdaBoostClassifier(**params)\n",
        "    X_train_proc = preprocessor.transform(X_train)\n",
        "    X_val_proc = preprocessor.transform(X_val)\n",
        "    model.fit(X_train_proc, y_train)\n",
        "    return accuracy_score(y_val, model.predict(X_val_proc))\n",
        "\n",
        "# --- Run Optimization ---\n",
        "model_choice = 'RandomForest'  # change to 'RandomForest' or 'AdaBoost' to switch\n",
        "\n",
        "if model_choice == 'RandomForest':\n",
        "    objective = objective_rf\n",
        "    ModelClass = RandomForestClassifier\n",
        "elif model_choice == 'GradientBoosting':\n",
        "    objective = objective_gb\n",
        "    ModelClass = GradientBoostingClassifier\n",
        "elif model_choice == 'AdaBoost':\n",
        "    objective = objective_ada\n",
        "    ModelClass = AdaBoostClassifier\n",
        "else:\n",
        "    raise ValueError(\"Invalid model choice\")\n",
        "\n",
        "study = optuna.create_study(direction='maximize')\n",
        "study.optimize(objective, n_trials=40)\n",
        "\n",
        "print(\"\\n--- Optimization Complete ---\")\n",
        "print(f\"Best Accuracy: {study.best_value:.5f}\")\n",
        "print(\"Best Hyperparameters:\", study.best_params)"
      ],
      "metadata": {
        "colab": {
          "base_uri": "https://localhost:8080/"
        },
        "id": "uRQHLT_lMW4X",
        "outputId": "63592112-c4fc-4b28-9ba7-a893569abcd8"
      },
      "execution_count": 20,
      "outputs": [
        {
          "output_type": "stream",
          "name": "stderr",
          "text": [
            "[I 2025-10-26 11:05:55,920] A new study created in memory with name: no-name-9e41dcd1-d0c6-4643-9fea-1fa59c44909b\n"
          ]
        },
        {
          "output_type": "stream",
          "name": "stdout",
          "text": [
            "\n",
            "--- Starting Optuna Tuning ---\n",
            "Preprocessor already fitted.\n"
          ]
        },
        {
          "output_type": "stream",
          "name": "stderr",
          "text": [
            "[I 2025-10-26 11:06:15,524] Trial 0 finished with value: 0.887911464245176 and parameters: {'n_estimators': 1195, 'max_depth': 10, 'min_samples_split': 8, 'min_samples_leaf': 1, 'max_features': 'sqrt', 'bootstrap': False}. Best is trial 0 with value: 0.887911464245176.\n",
            "[I 2025-10-26 11:06:32,251] Trial 1 finished with value: 0.8793984108967083 and parameters: {'n_estimators': 1170, 'max_depth': 9, 'min_samples_split': 5, 'min_samples_leaf': 5, 'max_features': 'sqrt', 'bootstrap': False}. Best is trial 0 with value: 0.887911464245176.\n",
            "[I 2025-10-26 11:06:46,719] Trial 2 finished with value: 0.8748581157775256 and parameters: {'n_estimators': 1112, 'max_depth': 10, 'min_samples_split': 10, 'min_samples_leaf': 2, 'max_features': 'log2', 'bootstrap': False}. Best is trial 0 with value: 0.887911464245176.\n",
            "[I 2025-10-26 11:06:59,324] Trial 3 finished with value: 0.8643586833144155 and parameters: {'n_estimators': 1010, 'max_depth': 9, 'min_samples_split': 8, 'min_samples_leaf': 4, 'max_features': 'log2', 'bootstrap': False}. Best is trial 0 with value: 0.887911464245176.\n",
            "[I 2025-10-26 11:07:18,546] Trial 4 finished with value: 0.891316685584563 and parameters: {'n_estimators': 1074, 'max_depth': 12, 'min_samples_split': 7, 'min_samples_leaf': 1, 'max_features': 'sqrt', 'bootstrap': True}. Best is trial 4 with value: 0.891316685584563.\n",
            "[I 2025-10-26 11:07:36,712] Trial 5 finished with value: 0.8833711691259932 and parameters: {'n_estimators': 1214, 'max_depth': 11, 'min_samples_split': 5, 'min_samples_leaf': 1, 'max_features': 'log2', 'bootstrap': False}. Best is trial 4 with value: 0.891316685584563.\n",
            "[I 2025-10-26 11:07:48,561] Trial 6 finished with value: 0.8674801362088536 and parameters: {'n_estimators': 1162, 'max_depth': 8, 'min_samples_split': 5, 'min_samples_leaf': 4, 'max_features': 'sqrt', 'bootstrap': True}. Best is trial 4 with value: 0.891316685584563.\n",
            "[I 2025-10-26 11:07:59,647] Trial 7 finished with value: 0.85527809307605 and parameters: {'n_estimators': 1205, 'max_depth': 8, 'min_samples_split': 9, 'min_samples_leaf': 1, 'max_features': 'log2', 'bootstrap': True}. Best is trial 4 with value: 0.891316685584563.\n",
            "[I 2025-10-26 11:08:23,386] Trial 8 finished with value: 0.8930192962542566 and parameters: {'n_estimators': 1425, 'max_depth': 11, 'min_samples_split': 8, 'min_samples_leaf': 2, 'max_features': 'sqrt', 'bootstrap': False}. Best is trial 8 with value: 0.8930192962542566.\n",
            "[I 2025-10-26 11:08:35,976] Trial 9 finished with value: 0.8564131668558457 and parameters: {'n_estimators': 1158, 'max_depth': 8, 'min_samples_split': 5, 'min_samples_leaf': 2, 'max_features': 'log2', 'bootstrap': False}. Best is trial 8 with value: 0.8930192962542566.\n",
            "[I 2025-10-26 11:08:54,379] Trial 10 finished with value: 0.8918842224744609 and parameters: {'n_estimators': 1453, 'max_depth': 12, 'min_samples_split': 7, 'min_samples_leaf': 3, 'max_features': 'sqrt', 'bootstrap': True}. Best is trial 8 with value: 0.8930192962542566.\n",
            "[I 2025-10-26 11:09:14,223] Trial 11 finished with value: 0.8916004540295119 and parameters: {'n_estimators': 1454, 'max_depth': 12, 'min_samples_split': 7, 'min_samples_leaf': 3, 'max_features': 'sqrt', 'bootstrap': True}. Best is trial 8 with value: 0.8930192962542566.\n",
            "[I 2025-10-26 11:09:31,851] Trial 12 finished with value: 0.8881952326901249 and parameters: {'n_estimators': 1447, 'max_depth': 11, 'min_samples_split': 7, 'min_samples_leaf': 3, 'max_features': 'sqrt', 'bootstrap': True}. Best is trial 8 with value: 0.8930192962542566.\n",
            "[I 2025-10-26 11:09:48,409] Trial 13 finished with value: 0.8893303064699205 and parameters: {'n_estimators': 1334, 'max_depth': 11, 'min_samples_split': 6, 'min_samples_leaf': 2, 'max_features': 'sqrt', 'bootstrap': True}. Best is trial 8 with value: 0.8930192962542566.\n",
            "[I 2025-10-26 11:10:11,876] Trial 14 finished with value: 0.8935868331441543 and parameters: {'n_estimators': 1351, 'max_depth': 12, 'min_samples_split': 9, 'min_samples_leaf': 3, 'max_features': 'sqrt', 'bootstrap': False}. Best is trial 14 with value: 0.8935868331441543.\n",
            "[I 2025-10-26 11:10:33,636] Trial 15 finished with value: 0.8898978433598184 and parameters: {'n_estimators': 1330, 'max_depth': 11, 'min_samples_split': 10, 'min_samples_leaf': 4, 'max_features': 'sqrt', 'bootstrap': False}. Best is trial 14 with value: 0.8935868331441543.\n",
            "[I 2025-10-26 11:10:57,146] Trial 16 finished with value: 0.8921679909194098 and parameters: {'n_estimators': 1348, 'max_depth': 12, 'min_samples_split': 9, 'min_samples_leaf': 2, 'max_features': 'sqrt', 'bootstrap': False}. Best is trial 14 with value: 0.8935868331441543.\n",
            "[I 2025-10-26 11:11:17,679] Trial 17 finished with value: 0.887627695800227 and parameters: {'n_estimators': 1391, 'max_depth': 10, 'min_samples_split': 9, 'min_samples_leaf': 3, 'max_features': 'sqrt', 'bootstrap': False}. Best is trial 14 with value: 0.8935868331441543.\n",
            "[I 2025-10-26 11:11:38,324] Trial 18 finished with value: 0.8890465380249716 and parameters: {'n_estimators': 1276, 'max_depth': 11, 'min_samples_split': 8, 'min_samples_leaf': 5, 'max_features': 'sqrt', 'bootstrap': False}. Best is trial 14 with value: 0.8935868331441543.\n",
            "[I 2025-10-26 11:12:02,774] Trial 19 finished with value: 0.8924517593643587 and parameters: {'n_estimators': 1396, 'max_depth': 12, 'min_samples_split': 9, 'min_samples_leaf': 2, 'max_features': 'sqrt', 'bootstrap': False}. Best is trial 14 with value: 0.8935868331441543.\n",
            "[I 2025-10-26 11:12:22,871] Trial 20 finished with value: 0.8924517593643587 and parameters: {'n_estimators': 1282, 'max_depth': 11, 'min_samples_split': 10, 'min_samples_leaf': 3, 'max_features': 'sqrt', 'bootstrap': False}. Best is trial 14 with value: 0.8935868331441543.\n",
            "[I 2025-10-26 11:12:49,142] Trial 21 finished with value: 0.8927355278093076 and parameters: {'n_estimators': 1500, 'max_depth': 12, 'min_samples_split': 9, 'min_samples_leaf': 2, 'max_features': 'sqrt', 'bootstrap': False}. Best is trial 14 with value: 0.8935868331441543.\n",
            "[I 2025-10-26 11:13:15,274] Trial 22 finished with value: 0.8927355278093076 and parameters: {'n_estimators': 1491, 'max_depth': 12, 'min_samples_split': 8, 'min_samples_leaf': 2, 'max_features': 'sqrt', 'bootstrap': False}. Best is trial 14 with value: 0.8935868331441543.\n",
            "[I 2025-10-26 11:13:41,102] Trial 23 finished with value: 0.8933030646992054 and parameters: {'n_estimators': 1497, 'max_depth': 12, 'min_samples_split': 9, 'min_samples_leaf': 3, 'max_features': 'sqrt', 'bootstrap': False}. Best is trial 14 with value: 0.8935868331441543.\n",
            "[I 2025-10-26 11:14:03,816] Trial 24 finished with value: 0.8916004540295119 and parameters: {'n_estimators': 1397, 'max_depth': 11, 'min_samples_split': 9, 'min_samples_leaf': 4, 'max_features': 'sqrt', 'bootstrap': False}. Best is trial 14 with value: 0.8935868331441543.\n",
            "[I 2025-10-26 11:14:28,435] Trial 25 finished with value: 0.8952894438138479 and parameters: {'n_estimators': 1424, 'max_depth': 12, 'min_samples_split': 8, 'min_samples_leaf': 3, 'max_features': 'sqrt', 'bootstrap': False}. Best is trial 25 with value: 0.8952894438138479.\n",
            "[I 2025-10-26 11:14:47,566] Trial 26 finished with value: 0.8856413166855845 and parameters: {'n_estimators': 1363, 'max_depth': 12, 'min_samples_split': 10, 'min_samples_leaf': 3, 'max_features': 'log2', 'bootstrap': False}. Best is trial 25 with value: 0.8952894438138479.\n",
            "[I 2025-10-26 11:15:09,943] Trial 27 finished with value: 0.8933030646992054 and parameters: {'n_estimators': 1301, 'max_depth': 12, 'min_samples_split': 6, 'min_samples_leaf': 4, 'max_features': 'sqrt', 'bootstrap': False}. Best is trial 25 with value: 0.8952894438138479.\n",
            "[I 2025-10-26 11:15:29,882] Trial 28 finished with value: 0.8788308740068105 and parameters: {'n_estimators': 1471, 'max_depth': 9, 'min_samples_split': 9, 'min_samples_leaf': 3, 'max_features': 'sqrt', 'bootstrap': False}. Best is trial 25 with value: 0.8952894438138479.\n",
            "[I 2025-10-26 11:15:54,478] Trial 29 finished with value: 0.895005675368899 and parameters: {'n_estimators': 1422, 'max_depth': 12, 'min_samples_split': 8, 'min_samples_leaf': 3, 'max_features': 'sqrt', 'bootstrap': False}. Best is trial 25 with value: 0.8952894438138479.\n",
            "[I 2025-10-26 11:16:16,270] Trial 30 finished with value: 0.8870601589103292 and parameters: {'n_estimators': 1420, 'max_depth': 10, 'min_samples_split': 8, 'min_samples_leaf': 4, 'max_features': 'sqrt', 'bootstrap': False}. Best is trial 25 with value: 0.8952894438138479.\n",
            "[I 2025-10-26 11:16:40,031] Trial 31 finished with value: 0.8944381384790011 and parameters: {'n_estimators': 1373, 'max_depth': 12, 'min_samples_split': 8, 'min_samples_leaf': 3, 'max_features': 'sqrt', 'bootstrap': False}. Best is trial 25 with value: 0.8952894438138479.\n",
            "[I 2025-10-26 11:17:03,204] Trial 32 finished with value: 0.8944381384790011 and parameters: {'n_estimators': 1374, 'max_depth': 12, 'min_samples_split': 8, 'min_samples_leaf': 3, 'max_features': 'sqrt', 'bootstrap': False}. Best is trial 25 with value: 0.8952894438138479.\n",
            "[I 2025-10-26 11:17:26,434] Trial 33 finished with value: 0.89472190692395 and parameters: {'n_estimators': 1379, 'max_depth': 12, 'min_samples_split': 8, 'min_samples_leaf': 3, 'max_features': 'sqrt', 'bootstrap': False}. Best is trial 25 with value: 0.8952894438138479.\n",
            "[I 2025-10-26 11:17:50,744] Trial 34 finished with value: 0.8935868331441543 and parameters: {'n_estimators': 1430, 'max_depth': 12, 'min_samples_split': 8, 'min_samples_leaf': 4, 'max_features': 'sqrt', 'bootstrap': False}. Best is trial 25 with value: 0.8952894438138479.\n",
            "[I 2025-10-26 11:18:07,778] Trial 35 finished with value: 0.8822360953461975 and parameters: {'n_estimators': 1236, 'max_depth': 11, 'min_samples_split': 7, 'min_samples_leaf': 3, 'max_features': 'log2', 'bootstrap': False}. Best is trial 25 with value: 0.8952894438138479.\n",
            "[I 2025-10-26 11:18:26,072] Trial 36 finished with value: 0.8788308740068105 and parameters: {'n_estimators': 1308, 'max_depth': 9, 'min_samples_split': 7, 'min_samples_leaf': 5, 'max_features': 'sqrt', 'bootstrap': False}. Best is trial 25 with value: 0.8952894438138479.\n",
            "[I 2025-10-26 11:18:50,159] Trial 37 finished with value: 0.8938706015891033 and parameters: {'n_estimators': 1413, 'max_depth': 12, 'min_samples_split': 8, 'min_samples_leaf': 4, 'max_features': 'sqrt', 'bootstrap': False}. Best is trial 25 with value: 0.8952894438138479.\n",
            "[I 2025-10-26 11:19:08,738] Trial 38 finished with value: 0.8811010215664018 and parameters: {'n_estimators': 1381, 'max_depth': 11, 'min_samples_split': 6, 'min_samples_leaf': 3, 'max_features': 'log2', 'bootstrap': False}. Best is trial 25 with value: 0.8952894438138479.\n",
            "[I 2025-10-26 11:19:26,761] Trial 39 finished with value: 0.8938706015891033 and parameters: {'n_estimators': 1060, 'max_depth': 12, 'min_samples_split': 8, 'min_samples_leaf': 4, 'max_features': 'sqrt', 'bootstrap': False}. Best is trial 25 with value: 0.8952894438138479.\n"
          ]
        },
        {
          "output_type": "stream",
          "name": "stdout",
          "text": [
            "\n",
            "--- Optimization Complete ---\n",
            "Best Accuracy: 0.89529\n",
            "Best Hyperparameters: {'n_estimators': 1424, 'max_depth': 12, 'min_samples_split': 8, 'min_samples_leaf': 3, 'max_features': 'sqrt', 'bootstrap': False}\n"
          ]
        }
      ]
    },
    {
      "cell_type": "code",
      "source": [
        "#########################################################----------GRADIENT BOOST------------#################################################################"
      ],
      "metadata": {
        "id": "6SOBEXm1wax9"
      },
      "execution_count": null,
      "outputs": []
    },
    {
      "cell_type": "code",
      "execution_count": 13,
      "metadata": {
        "colab": {
          "base_uri": "https://localhost:8080/"
        },
        "id": "66K2FwcfXDqP",
        "outputId": "5b8bd2c0-d147-450e-f936-44cffa31552b"
      },
      "outputs": [
        {
          "output_type": "stream",
          "name": "stderr",
          "text": [
            "[I 2025-10-26 07:17:02,602] A new study created in memory with name: no-name-40e7a46a-4417-4b66-9798-8f24ff650395\n"
          ]
        },
        {
          "output_type": "stream",
          "name": "stdout",
          "text": [
            "\n",
            "--- Starting Optuna Tuning ---\n",
            "Preprocessor already fitted.\n"
          ]
        },
        {
          "output_type": "stream",
          "name": "stderr",
          "text": [
            "[I 2025-10-26 07:21:05,776] Trial 0 finished with value: 0.9074914869466515 and parameters: {'n_estimators': 1351, 'learning_rate': 0.07487992491660034, 'max_depth': 9, 'min_samples_split': 7, 'min_samples_leaf': 5, 'subsample': 0.8130158075851324, 'max_features': 'sqrt'}. Best is trial 0 with value: 0.9074914869466515.\n",
            "[I 2025-10-26 07:25:04,577] Trial 1 finished with value: 0.9066401816118048 and parameters: {'n_estimators': 1455, 'learning_rate': 0.0790499892949312, 'max_depth': 12, 'min_samples_split': 6, 'min_samples_leaf': 4, 'subsample': 0.926532603579534, 'max_features': 'sqrt'}. Best is trial 0 with value: 0.9074914869466515.\n",
            "[I 2025-10-26 07:30:54,982] Trial 2 finished with value: 0.9083427922814983 and parameters: {'n_estimators': 1136, 'learning_rate': 0.049323158914219685, 'max_depth': 12, 'min_samples_split': 10, 'min_samples_leaf': 5, 'subsample': 0.8141045002337514, 'max_features': 'sqrt'}. Best is trial 2 with value: 0.9083427922814983.\n",
            "[I 2025-10-26 07:34:48,286] Trial 3 finished with value: 0.9063564131668559 and parameters: {'n_estimators': 1108, 'learning_rate': 0.07686031709842167, 'max_depth': 10, 'min_samples_split': 6, 'min_samples_leaf': 5, 'subsample': 0.8936539220867499, 'max_features': 'log2'}. Best is trial 2 with value: 0.9083427922814983.\n",
            "[I 2025-10-26 07:38:35,027] Trial 4 finished with value: 0.9069239500567536 and parameters: {'n_estimators': 1078, 'learning_rate': 0.0748991471260892, 'max_depth': 9, 'min_samples_split': 10, 'min_samples_leaf': 2, 'subsample': 0.8030311283242076, 'max_features': 'log2'}. Best is trial 2 with value: 0.9083427922814983.\n",
            "[I 2025-10-26 07:43:14,689] Trial 5 finished with value: 0.9077752553916004 and parameters: {'n_estimators': 1109, 'learning_rate': 0.0613864584866014, 'max_depth': 12, 'min_samples_split': 9, 'min_samples_leaf': 4, 'subsample': 0.8320346805780776, 'max_features': 'sqrt'}. Best is trial 2 with value: 0.9083427922814983.\n",
            "[I 2025-10-26 07:49:21,371] Trial 6 finished with value: 0.909477866061294 and parameters: {'n_estimators': 1497, 'learning_rate': 0.04546133063883291, 'max_depth': 11, 'min_samples_split': 10, 'min_samples_leaf': 3, 'subsample': 0.8153481247037999, 'max_features': 'sqrt'}. Best is trial 6 with value: 0.909477866061294.\n",
            "[I 2025-10-26 07:53:41,415] Trial 7 finished with value: 0.909477866061294 and parameters: {'n_estimators': 1443, 'learning_rate': 0.06809638153838103, 'max_depth': 10, 'min_samples_split': 5, 'min_samples_leaf': 5, 'subsample': 0.9262544208932708, 'max_features': 'sqrt'}. Best is trial 6 with value: 0.909477866061294.\n",
            "[I 2025-10-26 07:57:52,680] Trial 8 finished with value: 0.9066401816118048 and parameters: {'n_estimators': 1459, 'learning_rate': 0.060066288152939906, 'max_depth': 8, 'min_samples_split': 10, 'min_samples_leaf': 4, 'subsample': 0.8360492351628814, 'max_features': 'log2'}. Best is trial 6 with value: 0.909477866061294.\n",
            "[I 2025-10-26 08:02:15,451] Trial 9 finished with value: 0.9080590238365494 and parameters: {'n_estimators': 1481, 'learning_rate': 0.05874129602771313, 'max_depth': 8, 'min_samples_split': 7, 'min_samples_leaf': 4, 'subsample': 0.90008703499459, 'max_features': 'log2'}. Best is trial 6 with value: 0.909477866061294.\n",
            "[I 2025-10-26 08:09:06,133] Trial 10 finished with value: 0.9074914869466515 and parameters: {'n_estimators': 1261, 'learning_rate': 0.04068499178472837, 'max_depth': 11, 'min_samples_split': 8, 'min_samples_leaf': 1, 'subsample': 0.8622011194663606, 'max_features': 'sqrt'}. Best is trial 6 with value: 0.909477866061294.\n",
            "[I 2025-10-26 08:13:32,561] Trial 11 finished with value: 0.9074914869466515 and parameters: {'n_estimators': 1353, 'learning_rate': 0.06724422404006697, 'max_depth': 10, 'min_samples_split': 5, 'min_samples_leaf': 3, 'subsample': 0.9240681435854537, 'max_features': 'sqrt'}. Best is trial 6 with value: 0.909477866061294.\n",
            "[I 2025-10-26 08:19:40,747] Trial 12 finished with value: 0.9077752553916004 and parameters: {'n_estimators': 1369, 'learning_rate': 0.047402391855529524, 'max_depth': 11, 'min_samples_split': 5, 'min_samples_leaf': 3, 'subsample': 0.947344250780728, 'max_features': 'sqrt'}. Best is trial 6 with value: 0.909477866061294.\n",
            "[I 2025-10-26 08:23:57,086] Trial 13 finished with value: 0.9074914869466515 and parameters: {'n_estimators': 1238, 'learning_rate': 0.06798897344427503, 'max_depth': 11, 'min_samples_split': 8, 'min_samples_leaf': 2, 'subsample': 0.874563106186646, 'max_features': 'sqrt'}. Best is trial 6 with value: 0.909477866061294.\n",
            "[I 2025-10-26 08:29:18,911] Trial 14 finished with value: 0.909477866061294 and parameters: {'n_estimators': 1415, 'learning_rate': 0.052077297595819624, 'max_depth': 10, 'min_samples_split': 9, 'min_samples_leaf': 2, 'subsample': 0.8502272626951093, 'max_features': 'sqrt'}. Best is trial 6 with value: 0.909477866061294.\n",
            "[I 2025-10-26 08:36:25,174] Trial 15 finished with value: 0.9083427922814983 and parameters: {'n_estimators': 1500, 'learning_rate': 0.0403697874325217, 'max_depth': 11, 'min_samples_split': 6, 'min_samples_leaf': 3, 'subsample': 0.8990618036715654, 'max_features': 'sqrt'}. Best is trial 6 with value: 0.909477866061294.\n",
            "[I 2025-10-26 08:40:43,546] Trial 16 finished with value: 0.9083427922814983 and parameters: {'n_estimators': 1250, 'learning_rate': 0.06825985771873201, 'max_depth': 9, 'min_samples_split': 9, 'min_samples_leaf': 1, 'subsample': 0.9484748740365248, 'max_features': 'sqrt'}. Best is trial 6 with value: 0.909477866061294.\n",
            "[I 2025-10-26 08:46:05,426] Trial 17 finished with value: 0.906072644721907 and parameters: {'n_estimators': 1406, 'learning_rate': 0.054510617171918734, 'max_depth': 11, 'min_samples_split': 7, 'min_samples_leaf': 2, 'subsample': 0.9168656504202739, 'max_features': 'sqrt'}. Best is trial 6 with value: 0.909477866061294.\n",
            "[I 2025-10-26 08:51:52,000] Trial 18 finished with value: 0.9066401816118048 and parameters: {'n_estimators': 1304, 'learning_rate': 0.04643581471956775, 'max_depth': 10, 'min_samples_split': 5, 'min_samples_leaf': 4, 'subsample': 0.887818627622352, 'max_features': 'log2'}. Best is trial 6 with value: 0.909477866061294.\n",
            "[I 2025-10-26 08:56:17,744] Trial 19 finished with value: 0.9106129398410897 and parameters: {'n_estimators': 1184, 'learning_rate': 0.06399080622280426, 'max_depth': 10, 'min_samples_split': 8, 'min_samples_leaf': 3, 'subsample': 0.8545349780546017, 'max_features': 'sqrt'}. Best is trial 19 with value: 0.9106129398410897.\n",
            "[I 2025-10-26 09:00:18,219] Trial 20 finished with value: 0.909477866061294 and parameters: {'n_estimators': 1009, 'learning_rate': 0.06366362348484866, 'max_depth': 9, 'min_samples_split': 8, 'min_samples_leaf': 3, 'subsample': 0.8352798262003247, 'max_features': 'sqrt'}. Best is trial 19 with value: 0.9106129398410897.\n",
            "[I 2025-10-26 09:04:15,973] Trial 21 finished with value: 0.9069239500567536 and parameters: {'n_estimators': 1185, 'learning_rate': 0.07212984362583662, 'max_depth': 10, 'min_samples_split': 9, 'min_samples_leaf': 3, 'subsample': 0.854637588462868, 'max_features': 'sqrt'}. Best is trial 19 with value: 0.9106129398410897.\n",
            "[I 2025-10-26 09:09:12,422] Trial 22 finished with value: 0.9089103291713961 and parameters: {'n_estimators': 1184, 'learning_rate': 0.05650462616738467, 'max_depth': 10, 'min_samples_split': 8, 'min_samples_leaf': 3, 'subsample': 0.8711043753677296, 'max_features': 'sqrt'}. Best is trial 19 with value: 0.9106129398410897.\n",
            "[I 2025-10-26 09:13:54,479] Trial 23 finished with value: 0.9108967082860386 and parameters: {'n_estimators': 1425, 'learning_rate': 0.06423678981126708, 'max_depth': 11, 'min_samples_split': 6, 'min_samples_leaf': 2, 'subsample': 0.8244198757957109, 'max_features': 'sqrt'}. Best is trial 23 with value: 0.9108967082860386.\n",
            "[I 2025-10-26 09:18:41,780] Trial 24 finished with value: 0.9106129398410897 and parameters: {'n_estimators': 1320, 'learning_rate': 0.06254341301227774, 'max_depth': 11, 'min_samples_split': 6, 'min_samples_leaf': 2, 'subsample': 0.8249987238059543, 'max_features': 'sqrt'}. Best is trial 23 with value: 0.9108967082860386.\n",
            "[I 2025-10-26 09:23:51,476] Trial 25 finished with value: 0.909477866061294 and parameters: {'n_estimators': 1301, 'learning_rate': 0.06396457761732258, 'max_depth': 12, 'min_samples_split': 6, 'min_samples_leaf': 1, 'subsample': 0.8439355336988785, 'max_features': 'sqrt'}. Best is trial 23 with value: 0.9108967082860386.\n",
            "[I 2025-10-26 09:28:31,620] Trial 26 finished with value: 0.905788876276958 and parameters: {'n_estimators': 1199, 'learning_rate': 0.0650787226795163, 'max_depth': 11, 'min_samples_split': 7, 'min_samples_leaf': 2, 'subsample': 0.8254675895604945, 'max_features': 'log2'}. Best is trial 23 with value: 0.9108967082860386.\n",
            "[I 2025-10-26 09:32:48,066] Trial 27 finished with value: 0.9100454029511919 and parameters: {'n_estimators': 1307, 'learning_rate': 0.07135772991722424, 'max_depth': 11, 'min_samples_split': 6, 'min_samples_leaf': 2, 'subsample': 0.8000201593621418, 'max_features': 'sqrt'}. Best is trial 23 with value: 0.9108967082860386.\n",
            "[I 2025-10-26 09:38:28,227] Trial 28 finished with value: 0.9097616345062429 and parameters: {'n_estimators': 1389, 'learning_rate': 0.05695946038677693, 'max_depth': 12, 'min_samples_split': 7, 'min_samples_leaf': 1, 'subsample': 0.8248415076510415, 'max_features': 'sqrt'}. Best is trial 23 with value: 0.9108967082860386.\n",
            "[I 2025-10-26 09:43:16,974] Trial 29 finished with value: 0.9100454029511919 and parameters: {'n_estimators': 1330, 'learning_rate': 0.061133622912803914, 'max_depth': 10, 'min_samples_split': 6, 'min_samples_leaf': 2, 'subsample': 0.8440465297768901, 'max_features': 'sqrt'}. Best is trial 23 with value: 0.9108967082860386.\n",
            "[I 2025-10-26 09:47:28,804] Trial 30 finished with value: 0.9091940976163451 and parameters: {'n_estimators': 1275, 'learning_rate': 0.0701149238943757, 'max_depth': 9, 'min_samples_split': 7, 'min_samples_leaf': 2, 'subsample': 0.8639305466929851, 'max_features': 'sqrt'}. Best is trial 23 with value: 0.9108967082860386.\n",
            "[I 2025-10-26 09:51:43,803] Trial 31 finished with value: 0.9106129398410897 and parameters: {'n_estimators': 1218, 'learning_rate': 0.07150025502186089, 'max_depth': 11, 'min_samples_split': 6, 'min_samples_leaf': 2, 'subsample': 0.8018884580698402, 'max_features': 'sqrt'}. Best is trial 23 with value: 0.9108967082860386.\n",
            "[I 2025-10-26 09:56:25,334] Trial 32 finished with value: 0.9117480136208853 and parameters: {'n_estimators': 1207, 'learning_rate': 0.06517338247933074, 'max_depth': 11, 'min_samples_split': 6, 'min_samples_leaf': 1, 'subsample': 0.8101963465846417, 'max_features': 'sqrt'}. Best is trial 32 with value: 0.9117480136208853.\n",
            "[I 2025-10-26 10:01:28,120] Trial 33 finished with value: 0.9077752553916004 and parameters: {'n_estimators': 1139, 'learning_rate': 0.06507636530889607, 'max_depth': 12, 'min_samples_split': 6, 'min_samples_leaf': 1, 'subsample': 0.8166815642972021, 'max_features': 'sqrt'}. Best is trial 32 with value: 0.9117480136208853.\n",
            "[I 2025-10-26 10:06:10,943] Trial 34 finished with value: 0.9086265607264472 and parameters: {'n_estimators': 1151, 'learning_rate': 0.06287482143232263, 'max_depth': 11, 'min_samples_split': 7, 'min_samples_leaf': 1, 'subsample': 0.821802583062218, 'max_features': 'sqrt'}. Best is trial 32 with value: 0.9117480136208853.\n",
            "[I 2025-10-26 10:11:57,046] Trial 35 finished with value: 0.9089103291713961 and parameters: {'n_estimators': 1048, 'learning_rate': 0.058209437021490354, 'max_depth': 12, 'min_samples_split': 5, 'min_samples_leaf': 1, 'subsample': 0.8321100543035164, 'max_features': 'sqrt'}. Best is trial 32 with value: 0.9117480136208853.\n",
            "[I 2025-10-26 10:16:12,957] Trial 36 finished with value: 0.9043700340522134 and parameters: {'n_estimators': 1167, 'learning_rate': 0.07395728105775735, 'max_depth': 11, 'min_samples_split': 6, 'min_samples_leaf': 2, 'subsample': 0.8086676264540256, 'max_features': 'log2'}. Best is trial 32 with value: 0.9117480136208853.\n",
            "[I 2025-10-26 10:20:31,765] Trial 37 finished with value: 0.9100454029511919 and parameters: {'n_estimators': 1221, 'learning_rate': 0.06625473256704609, 'max_depth': 10, 'min_samples_split': 8, 'min_samples_leaf': 1, 'subsample': 0.8113776050343708, 'max_features': 'sqrt'}. Best is trial 32 with value: 0.9117480136208853.\n",
            "[I 2025-10-26 10:24:39,556] Trial 38 finished with value: 0.909477866061294 and parameters: {'n_estimators': 1285, 'learning_rate': 0.07840655819699989, 'max_depth': 12, 'min_samples_split': 6, 'min_samples_leaf': 2, 'subsample': 0.8408794064278546, 'max_features': 'sqrt'}. Best is trial 32 with value: 0.9117480136208853.\n",
            "[I 2025-10-26 10:29:19,154] Trial 39 finished with value: 0.9111804767309876 and parameters: {'n_estimators': 1093, 'learning_rate': 0.06251616305757558, 'max_depth': 11, 'min_samples_split': 5, 'min_samples_leaf': 3, 'subsample': 0.8212587631141054, 'max_features': 'sqrt'}. Best is trial 32 with value: 0.9117480136208853.\n"
          ]
        },
        {
          "output_type": "stream",
          "name": "stdout",
          "text": [
            "\n",
            "--- Optimization Complete ---\n",
            "Best Accuracy: 0.91175\n",
            "Best Hyperparameters: {'n_estimators': 1207, 'learning_rate': 0.06517338247933074, 'max_depth': 11, 'min_samples_split': 6, 'min_samples_leaf': 1, 'subsample': 0.8101963465846417, 'max_features': 'sqrt'}\n"
          ]
        }
      ],
      "source": [
        "!pip install optuna -q\n",
        "import pandas as pd\n",
        "from sklearn.ensemble import RandomForestClassifier, GradientBoostingClassifier, AdaBoostClassifier\n",
        "from sklearn.metrics import accuracy_score\n",
        "from sklearn.exceptions import NotFittedError\n",
        "from sklearn.pipeline import Pipeline\n",
        "import optuna\n",
        "\n",
        "print(\"\\n--- Starting Optuna Tuning ---\")\n",
        "\n",
        "# --- Ensure preprocessor is fitted ---\n",
        "try:\n",
        "    preprocessor.transform(X_train.head(1))\n",
        "    print(\"Preprocessor already fitted.\")\n",
        "except NotFittedError:\n",
        "    print(\"Fitting preprocessor...\")\n",
        "    preprocessor.fit(X_train)\n",
        "    print(\"Preprocessor fitted.\")\n",
        "except NameError:\n",
        "    print(\"Preprocessor not defined. Please define preprocessor first.\")\n",
        "    exit()\n",
        "\n",
        "# --- Objective Functions ---\n",
        "def objective_rf(trial):\n",
        "    params = {\n",
        "    'n_estimators': trial.suggest_int('n_estimators', 1000, 1500),\n",
        "    'max_depth': trial.suggest_int('max_depth', 8, 12),\n",
        "    'min_samples_split': trial.suggest_int('min_samples_split', 5, 10),\n",
        "    'min_samples_leaf': trial.suggest_int('min_samples_leaf', 1, 5),\n",
        "    'max_features': trial.suggest_categorical('max_features', ['sqrt','log2']),\n",
        "    'bootstrap': trial.suggest_categorical('bootstrap', [True, False]),\n",
        "    'random_state': 42,\n",
        "    'n_jobs': -1\n",
        "}\n",
        "\n",
        "    model = RandomForestClassifier(**params)\n",
        "    X_train_proc = preprocessor.transform(X_train)\n",
        "    X_val_proc = preprocessor.transform(X_val)\n",
        "    model.fit(X_train_proc, y_train)\n",
        "    return accuracy_score(y_val, model.predict(X_val_proc))\n",
        "\n",
        "def objective_gb(trial):\n",
        "    params = {\n",
        "    'n_estimators': trial.suggest_int('n_estimators', 1000, 1500),\n",
        "    'learning_rate': trial.suggest_float('learning_rate', 0.04, 0.08),\n",
        "    'max_depth': trial.suggest_int('max_depth', 8, 12),\n",
        "    'min_samples_split': trial.suggest_int('min_samples_split', 5, 10),\n",
        "    'min_samples_leaf': trial.suggest_int('min_samples_leaf', 1, 5),\n",
        "    'subsample': trial.suggest_float('subsample', 0.8, 0.95),\n",
        "    'max_features': trial.suggest_categorical('max_features', ['sqrt','log2']),\n",
        "    'random_state': 42\n",
        "}\n",
        "\n",
        "    model = GradientBoostingClassifier(**params)\n",
        "    X_train_proc = preprocessor.transform(X_train)\n",
        "    X_val_proc = preprocessor.transform(X_val)\n",
        "    model.fit(X_train_proc, y_train)\n",
        "    return accuracy_score(y_val, model.predict(X_val_proc))\n",
        "\n",
        "\n",
        "def objective_ada(trial):\n",
        "    params = {\n",
        "    'n_estimators': trial.suggest_int('n_estimators', 500, 1500),\n",
        "    'learning_rate': trial.suggest_float('learning_rate', 0.04, 0.08),\n",
        "    'algorithm': trial.suggest_categorical('algorithm', ['SAMME','SAMME.R']),\n",
        "    'random_state': 42\n",
        "}\n",
        "    model = AdaBoostClassifier(**params)\n",
        "    X_train_proc = preprocessor.transform(X_train)\n",
        "    X_val_proc = preprocessor.transform(X_val)\n",
        "    model.fit(X_train_proc, y_train)\n",
        "    return accuracy_score(y_val, model.predict(X_val_proc))\n",
        "\n",
        "# --- Run Optimization ---\n",
        "model_choice = 'GradientBoosting'  # change to 'GradientBoosting' or 'AdaBoost' to switch\n",
        "\n",
        "if model_choice == 'RandomForest':\n",
        "    objective = objective_rf\n",
        "    ModelClass = RandomForestClassifier\n",
        "elif model_choice == 'GradientBoosting':\n",
        "    objective = objective_gb\n",
        "    ModelClass = GradientBoostingClassifier\n",
        "elif model_choice == 'AdaBoost':\n",
        "    objective = objective_ada\n",
        "    ModelClass = AdaBoostClassifier\n",
        "else:\n",
        "    raise ValueError(\"Invalid model choice\")\n",
        "\n",
        "study = optuna.create_study(direction='maximize')\n",
        "study.optimize(objective, n_trials=40)\n",
        "\n",
        "print(\"\\n--- Optimization Complete ---\")\n",
        "print(f\"Best Accuracy: {study.best_value:.5f}\")\n",
        "print(\"Best Hyperparameters:\", study.best_params)\n",
        "\n"
      ]
    },
    {
      "cell_type": "code",
      "source": [
        "#########################################################----------ADABOOST------------##################################################################"
      ],
      "metadata": {
        "id": "9pANyKxVwgx3"
      },
      "execution_count": null,
      "outputs": []
    },
    {
      "cell_type": "code",
      "source": [
        "!pip install optuna -q\n",
        "import pandas as pd\n",
        "from sklearn.ensemble import RandomForestClassifier, GradientBoostingClassifier, AdaBoostClassifier\n",
        "from sklearn.metrics import accuracy_score\n",
        "from sklearn.exceptions import NotFittedError\n",
        "from sklearn.pipeline import Pipeline\n",
        "import optuna\n",
        "\n",
        "print(\"\\n--- Starting Optuna Tuning ---\")\n",
        "\n",
        "# --- Ensure preprocessor is fitted ---\n",
        "try:\n",
        "    preprocessor.transform(X_train.head(1))\n",
        "    print(\"Preprocessor already fitted.\")\n",
        "except NotFittedError:\n",
        "    print(\"Fitting preprocessor...\")\n",
        "    preprocessor.fit(X_train)\n",
        "    print(\"Preprocessor fitted.\")\n",
        "except NameError:\n",
        "    print(\"Preprocessor not defined. Please define preprocessor first.\")\n",
        "    exit()\n",
        "\n",
        "# --- Objective Functions ---\n",
        "def objective_rf(trial):\n",
        "    params = {\n",
        "    'n_estimators': trial.suggest_int('n_estimators', 1000, 1500),\n",
        "    'max_depth': trial.suggest_int('max_depth', 8, 12),\n",
        "    'min_samples_split': trial.suggest_int('min_samples_split', 5, 10),\n",
        "    'min_samples_leaf': trial.suggest_int('min_samples_leaf', 1, 5),\n",
        "    'max_features': trial.suggest_categorical('max_features', ['sqrt','log2']),\n",
        "    'bootstrap': trial.suggest_categorical('bootstrap', [True, False]),\n",
        "    'random_state': 42,\n",
        "    'n_jobs': -1\n",
        "}\n",
        "\n",
        "    model = RandomForestClassifier(**params)\n",
        "    X_train_proc = preprocessor.transform(X_train)\n",
        "    X_val_proc = preprocessor.transform(X_val)\n",
        "    model.fit(X_train_proc, y_train)\n",
        "    return accuracy_score(y_val, model.predict(X_val_proc))\n",
        "\n",
        "def objective_gb(trial):\n",
        "    params = {\n",
        "    'n_estimators': trial.suggest_int('n_estimators', 1000, 1500),\n",
        "    'learning_rate': trial.suggest_float('learning_rate', 0.04, 0.08),\n",
        "    'max_depth': trial.suggest_int('max_depth', 8, 12),\n",
        "    'min_samples_split': trial.suggest_int('min_samples_split', 5, 10),\n",
        "    'min_samples_leaf': trial.suggest_int('min_samples_leaf', 1, 5),\n",
        "    'subsample': trial.suggest_float('subsample', 0.8, 0.95),\n",
        "    'max_features': trial.suggest_categorical('max_features', ['sqrt','log2']),\n",
        "    'random_state': 42\n",
        "}\n",
        "\n",
        "    model = GradientBoostingClassifier(**params)\n",
        "    X_train_proc = preprocessor.transform(X_train)\n",
        "    X_val_proc = preprocessor.transform(X_val)\n",
        "    model.fit(X_train_proc, y_train)\n",
        "    return accuracy_score(y_val, model.predict(X_val_proc))\n",
        "\n",
        "\n",
        "def objective_ada(trial):\n",
        "    params = {\n",
        "    'n_estimators': trial.suggest_int('n_estimators', 500, 1500),\n",
        "    'learning_rate': trial.suggest_float('learning_rate', 0.04, 0.08),\n",
        "    'algorithm': trial.suggest_categorical('algorithm', ['SAMME']),\n",
        "    'random_state': 42\n",
        "}\n",
        "    model = AdaBoostClassifier(**params)\n",
        "    X_train_proc = preprocessor.transform(X_train)\n",
        "    X_val_proc = preprocessor.transform(X_val)\n",
        "    model.fit(X_train_proc, y_train)\n",
        "    return accuracy_score(y_val, model.predict(X_val_proc))\n",
        "\n",
        "# --- Run Optimization ---\n",
        "model_choice = 'AdaBoost'  # change to 'RandomForest' or 'AdaBoost' to switch\n",
        "\n",
        "if model_choice == 'RandomForest':\n",
        "    objective = objective_rf\n",
        "    ModelClass = RandomForestClassifier\n",
        "elif model_choice == 'GradientBoosting':\n",
        "    objective = objective_gb\n",
        "    ModelClass = GradientBoostingClassifier\n",
        "elif model_choice == 'AdaBoost':\n",
        "    objective = objective_ada\n",
        "    ModelClass = AdaBoostClassifier\n",
        "else:\n",
        "    raise ValueError(\"Invalid model choice\")\n",
        "\n",
        "study = optuna.create_study(direction='maximize')\n",
        "study.optimize(objective, n_trials=40)\n",
        "\n",
        "print(\"\\n--- Optimization Complete ---\")\n",
        "print(f\"Best Accuracy: {study.best_value:.5f}\")\n",
        "print(\"Best Hyperparameters:\", study.best_params)"
      ],
      "metadata": {
        "colab": {
          "base_uri": "https://localhost:8080/"
        },
        "id": "LyhMg5gOHrxm",
        "outputId": "ffa9cf8b-4504-41ff-f0f0-d43df8d467f3"
      },
      "execution_count": 17,
      "outputs": [
        {
          "output_type": "stream",
          "name": "stderr",
          "text": [
            "[I 2025-10-26 10:45:27,618] A new study created in memory with name: no-name-fb607414-773f-4726-9b52-ea663185790a\n"
          ]
        },
        {
          "output_type": "stream",
          "name": "stdout",
          "text": [
            "\n",
            "--- Starting Optuna Tuning ---\n",
            "Preprocessor already fitted.\n"
          ]
        },
        {
          "output_type": "stream",
          "name": "stderr",
          "text": [
            "[I 2025-10-26 10:45:43,865] Trial 0 finished with value: 0.6643019296254257 and parameters: {'n_estimators': 1029, 'learning_rate': 0.04652155951086726, 'algorithm': 'SAMME'}. Best is trial 0 with value: 0.6643019296254257.\n",
            "[I 2025-10-26 10:45:56,555] Trial 1 finished with value: 0.6336549375709422 and parameters: {'n_estimators': 794, 'learning_rate': 0.04473643304615916, 'algorithm': 'SAMME'}. Best is trial 0 with value: 0.6643019296254257.\n",
            "[I 2025-10-26 10:46:06,258] Trial 2 finished with value: 0.6481271282633371 and parameters: {'n_estimators': 595, 'learning_rate': 0.066581301138876, 'algorithm': 'SAMME'}. Best is trial 0 with value: 0.6643019296254257.\n",
            "[I 2025-10-26 10:46:16,842] Trial 3 finished with value: 0.6203178206583428 and parameters: {'n_estimators': 661, 'learning_rate': 0.053960899788164776, 'algorithm': 'SAMME'}. Best is trial 0 with value: 0.6643019296254257.\n",
            "[I 2025-10-26 10:46:27,866] Trial 4 finished with value: 0.641316685584563 and parameters: {'n_estimators': 690, 'learning_rate': 0.04221839982841586, 'algorithm': 'SAMME'}. Best is trial 0 with value: 0.6643019296254257.\n",
            "[I 2025-10-26 10:46:46,765] Trial 5 finished with value: 0.6509648127128264 and parameters: {'n_estimators': 1220, 'learning_rate': 0.04043377527891322, 'algorithm': 'SAMME'}. Best is trial 0 with value: 0.6643019296254257.\n",
            "[I 2025-10-26 10:46:58,991] Trial 6 finished with value: 0.6435868331441543 and parameters: {'n_estimators': 744, 'learning_rate': 0.043307280004057945, 'algorithm': 'SAMME'}. Best is trial 0 with value: 0.6643019296254257.\n",
            "[I 2025-10-26 10:47:08,078] Trial 7 finished with value: 0.6245743473325767 and parameters: {'n_estimators': 553, 'learning_rate': 0.073903150516493, 'algorithm': 'SAMME'}. Best is trial 0 with value: 0.6643019296254257.\n",
            "[I 2025-10-26 10:47:25,303] Trial 8 finished with value: 0.6563564131668559 and parameters: {'n_estimators': 1111, 'learning_rate': 0.04768067784175114, 'algorithm': 'SAMME'}. Best is trial 0 with value: 0.6643019296254257.\n",
            "[I 2025-10-26 10:47:37,894] Trial 9 finished with value: 0.6864358683314415 and parameters: {'n_estimators': 793, 'learning_rate': 0.07963499189640824, 'algorithm': 'SAMME'}. Best is trial 9 with value: 0.6864358683314415.\n",
            "[I 2025-10-26 10:48:01,130] Trial 10 finished with value: 0.7602156640181612 and parameters: {'n_estimators': 1468, 'learning_rate': 0.07843498806531854, 'algorithm': 'SAMME'}. Best is trial 10 with value: 0.7602156640181612.\n",
            "[I 2025-10-26 10:48:24,553] Trial 11 finished with value: 0.7596481271282634 and parameters: {'n_estimators': 1481, 'learning_rate': 0.0785389065200997, 'algorithm': 'SAMME'}. Best is trial 10 with value: 0.7602156640181612.\n",
            "[I 2025-10-26 10:48:48,492] Trial 12 finished with value: 0.7525539160045402 and parameters: {'n_estimators': 1478, 'learning_rate': 0.06855115872802173, 'algorithm': 'SAMME'}. Best is trial 10 with value: 0.7602156640181612.\n",
            "[I 2025-10-26 10:49:11,776] Trial 13 finished with value: 0.7616345062429057 and parameters: {'n_estimators': 1474, 'learning_rate': 0.07856813034293117, 'algorithm': 'SAMME'}. Best is trial 13 with value: 0.7616345062429057.\n",
            "[I 2025-10-26 10:49:31,957] Trial 14 finished with value: 0.7091373439273553 and parameters: {'n_estimators': 1313, 'learning_rate': 0.0630861672951795, 'algorithm': 'SAMME'}. Best is trial 13 with value: 0.7616345062429057.\n",
            "[I 2025-10-26 10:49:53,302] Trial 15 finished with value: 0.7505675368898979 and parameters: {'n_estimators': 1334, 'learning_rate': 0.0728718680381323, 'algorithm': 'SAMME'}. Best is trial 13 with value: 0.7616345062429057.\n",
            "[I 2025-10-26 10:50:15,051] Trial 16 finished with value: 0.6975028376844495 and parameters: {'n_estimators': 1361, 'learning_rate': 0.05720261049860341, 'algorithm': 'SAMME'}. Best is trial 13 with value: 0.7616345062429057.\n",
            "[I 2025-10-26 10:50:33,574] Trial 17 finished with value: 0.7312712826333712 and parameters: {'n_estimators': 1173, 'learning_rate': 0.07390062868498155, 'algorithm': 'SAMME'}. Best is trial 13 with value: 0.7616345062429057.\n",
            "[I 2025-10-26 10:50:48,938] Trial 18 finished with value: 0.6887060158910329 and parameters: {'n_estimators': 947, 'learning_rate': 0.06975962741982566, 'algorithm': 'SAMME'}. Best is trial 13 with value: 0.7616345062429057.\n",
            "[I 2025-10-26 10:51:10,822] Trial 19 finished with value: 0.735527809307605 and parameters: {'n_estimators': 1408, 'learning_rate': 0.06285904822616067, 'algorithm': 'SAMME'}. Best is trial 13 with value: 0.7616345062429057.\n",
            "[I 2025-10-26 10:51:31,192] Trial 20 finished with value: 0.7582292849035187 and parameters: {'n_estimators': 1269, 'learning_rate': 0.0770011525145949, 'algorithm': 'SAMME'}. Best is trial 13 with value: 0.7616345062429057.\n",
            "[I 2025-10-26 10:51:54,815] Trial 21 finished with value: 0.7604994324631101 and parameters: {'n_estimators': 1497, 'learning_rate': 0.0798221881781149, 'algorithm': 'SAMME'}. Best is trial 13 with value: 0.7616345062429057.\n",
            "[I 2025-10-26 10:52:18,486] Trial 22 finished with value: 0.7633371169125993 and parameters: {'n_estimators': 1495, 'learning_rate': 0.07597457794162066, 'algorithm': 'SAMME'}. Best is trial 22 with value: 0.7633371169125993.\n",
            "[I 2025-10-26 10:52:39,992] Trial 23 finished with value: 0.7525539160045402 and parameters: {'n_estimators': 1404, 'learning_rate': 0.07564858883568056, 'algorithm': 'SAMME'}. Best is trial 22 with value: 0.7633371169125993.\n",
            "[I 2025-10-26 10:53:02,109] Trial 24 finished with value: 0.7525539160045402 and parameters: {'n_estimators': 1396, 'learning_rate': 0.07096259592254175, 'algorithm': 'SAMME'}. Best is trial 22 with value: 0.7633371169125993.\n",
            "[I 2025-10-26 10:53:22,300] Trial 25 finished with value: 0.7548240635641317 and parameters: {'n_estimators': 1260, 'learning_rate': 0.07996226399997282, 'algorithm': 'SAMME'}. Best is trial 22 with value: 0.7633371169125993.\n",
            "[I 2025-10-26 10:53:45,906] Trial 26 finished with value: 0.7517026106696936 and parameters: {'n_estimators': 1496, 'learning_rate': 0.06610020560697337, 'algorithm': 'SAMME'}. Best is trial 22 with value: 0.7633371169125993.\n",
            "[I 2025-10-26 10:54:00,435] Trial 27 finished with value: 0.6901248581157775 and parameters: {'n_estimators': 929, 'learning_rate': 0.07591159114295226, 'algorithm': 'SAMME'}. Best is trial 22 with value: 0.7633371169125993.\n",
            "[I 2025-10-26 10:54:18,606] Trial 28 finished with value: 0.724744608399546 and parameters: {'n_estimators': 1172, 'learning_rate': 0.07195281964262575, 'algorithm': 'SAMME'}. Best is trial 22 with value: 0.7633371169125993.\n",
            "[I 2025-10-26 10:54:35,693] Trial 29 finished with value: 0.6804767309875142 and parameters: {'n_estimators': 1050, 'learning_rate': 0.05122109193519228, 'algorithm': 'SAMME'}. Best is trial 22 with value: 0.7633371169125993.\n",
            "[I 2025-10-26 10:54:57,664] Trial 30 finished with value: 0.757094211123723 and parameters: {'n_estimators': 1423, 'learning_rate': 0.07616229483803687, 'algorithm': 'SAMME'}. Best is trial 22 with value: 0.7633371169125993.\n",
            "[I 2025-10-26 10:55:21,452] Trial 31 finished with value: 0.7585130533484676 and parameters: {'n_estimators': 1500, 'learning_rate': 0.07771581627414868, 'algorithm': 'SAMME'}. Best is trial 22 with value: 0.7633371169125993.\n",
            "[I 2025-10-26 10:55:44,205] Trial 32 finished with value: 0.7539727582292849 and parameters: {'n_estimators': 1433, 'learning_rate': 0.07458631903670214, 'algorithm': 'SAMME'}. Best is trial 22 with value: 0.7633371169125993.\n",
            "[I 2025-10-26 10:56:05,341] Trial 33 finished with value: 0.7542565266742338 and parameters: {'n_estimators': 1323, 'learning_rate': 0.07998907845465393, 'algorithm': 'SAMME'}. Best is trial 22 with value: 0.7633371169125993.\n",
            "[I 2025-10-26 10:56:28,329] Trial 34 finished with value: 0.7596481271282634 and parameters: {'n_estimators': 1450, 'learning_rate': 0.07762920790101796, 'algorithm': 'SAMME'}. Best is trial 22 with value: 0.7633371169125993.\n",
            "[I 2025-10-26 10:56:49,427] Trial 35 finished with value: 0.7494324631101021 and parameters: {'n_estimators': 1366, 'learning_rate': 0.06732145765824049, 'algorithm': 'SAMME'}. Best is trial 22 with value: 0.7633371169125993.\n",
            "[I 2025-10-26 10:57:10,060] Trial 36 finished with value: 0.7508513053348468 and parameters: {'n_estimators': 1288, 'learning_rate': 0.07146199311313305, 'algorithm': 'SAMME'}. Best is trial 22 with value: 0.7633371169125993.\n",
            "[I 2025-10-26 10:57:29,222] Trial 37 finished with value: 0.7448921679909194 and parameters: {'n_estimators': 1213, 'learning_rate': 0.07744661137013992, 'algorithm': 'SAMME'}. Best is trial 22 with value: 0.7633371169125993.\n",
            "[I 2025-10-26 10:57:50,594] Trial 38 finished with value: 0.753688989784336 and parameters: {'n_estimators': 1366, 'learning_rate': 0.0735203467075791, 'algorithm': 'SAMME'}. Best is trial 22 with value: 0.7633371169125993.\n",
            "[I 2025-10-26 10:58:13,534] Trial 39 finished with value: 0.75 and parameters: {'n_estimators': 1446, 'learning_rate': 0.06419631468925951, 'algorithm': 'SAMME'}. Best is trial 22 with value: 0.7633371169125993.\n"
          ]
        },
        {
          "output_type": "stream",
          "name": "stdout",
          "text": [
            "\n",
            "--- Optimization Complete ---\n",
            "Best Accuracy: 0.76334\n",
            "Best Hyperparameters: {'n_estimators': 1495, 'learning_rate': 0.07597457794162066, 'algorithm': 'SAMME'}\n"
          ]
        }
      ]
    },
    {
      "cell_type": "code",
      "source": [
        "#Random Forest\n",
        "params={'n_estimators': 1424, 'max_depth': 12, 'min_samples_split': 8, 'min_samples_leaf': 3, 'max_features': 'sqrt', 'bootstrap': False}\n",
        "#Adaboost Best Hyperparameters:\n",
        "params = {'n_estimators': 1495, 'learning_rate': 0.07597457794162066, 'algorithm': 'SAMME'};\n",
        "#Gradient Boost:\n",
        "params = {'n_estimators': 1207, 'learning_rate': 0.06517338247933074, 'max_depth': 11, 'min_samples_split': 6, 'min_samples_leaf': 1, 'subsample': 0.8101963465846417, 'max_features': 'sqrt'}\n"
      ],
      "metadata": {
        "id": "ysKZWH7aQVAA"
      },
      "execution_count": 31,
      "outputs": []
    },
    {
      "cell_type": "code",
      "source": [
        "from sklearn.ensemble import RandomForestClassifier, AdaBoostClassifier, GradientBoostingClassifier\n",
        "from sklearn.metrics import accuracy_score, classification_report, confusion_matrix\n",
        "from sklearn.model_selection import cross_val_score\n",
        "from tqdm import tqdm\n",
        "import seaborn as sb\n",
        "import matplotlib.pyplot as plt\n",
        "import numpy as np\n",
        "\n",
        "# -------------------------------\n",
        "# Define best parameters for each model\n",
        "# -------------------------------\n",
        "rf_params = {\n",
        "    'n_estimators': 1424,\n",
        "    'max_depth': 12,\n",
        "    'min_samples_split': 8,\n",
        "    'min_samples_leaf': 3,\n",
        "    'max_features': 'sqrt',\n",
        "    'bootstrap': False\n",
        "}\n",
        "\n",
        "ada_params = {\n",
        "    'n_estimators': 1495,\n",
        "    'learning_rate': 0.07597457794162066,\n",
        "    'algorithm': 'SAMME'\n",
        "}\n",
        "\n",
        "gb_params = {\n",
        "    'n_estimators': 1207,\n",
        "    'learning_rate': 0.06517338247933074,\n",
        "    'max_depth': 11,\n",
        "    'min_samples_split': 6,\n",
        "    'min_samples_leaf': 1,\n",
        "    'subsample': 0.8101963465846417\n",
        "    # removed 'max_features': 'sqrt' (not supported by GradientBoosting in sklearn < 1.4)\n",
        "}\n",
        "\n",
        "\n",
        "# -------------------------------\n",
        "# Model dictionary for iteration\n",
        "# -------------------------------\n",
        "models = {\n",
        "    \"Random Forest\": RandomForestClassifier(**rf_params, random_state=42, n_jobs=-1),\n",
        "    \"AdaBoost\": AdaBoostClassifier(**ada_params, random_state=42),\n",
        "    \"Gradient Boosting\": GradientBoostingClassifier(**gb_params, random_state=42)\n",
        "}\n",
        "\n",
        "# -------------------------------\n",
        "# Preprocess data\n",
        "# -------------------------------\n",
        "X_train_processed = preprocessor.transform(X_train)\n",
        "X_val_processed = preprocessor.transform(X_val)\n",
        "\n",
        "# -------------------------------\n",
        "# Train and evaluate each model\n",
        "# -------------------------------\n",
        "for name, model in models.items():\n",
        "    print(f\"\\n{'='*20} {name} {'='*20}\")\n",
        "\n",
        "    # Cross-validation accuracy\n",
        "    cv_score = cross_val_score(model, X_train_processed, y_train, cv=5, scoring='accuracy', n_jobs=-1).mean()\n",
        "    print(f\"Cross-Validation Accuracy: {cv_score:.4f}\")\n",
        "\n",
        "    # Train the model\n",
        "    model.fit(X_train_processed, y_train)\n",
        "\n",
        "    # Predictions\n",
        "    y_pred = model.predict(X_val_processed)\n",
        "    y_pred = y_pred.astype(int)\n",
        "\n",
        "    # Accuracy\n",
        "    acc = accuracy_score(y_val, y_pred)\n",
        "    print(f\"Validation Accuracy: {acc:.4f}\")\n",
        "    print(classification_report(y_val, y_pred))\n",
        "\n",
        "    # Confusion Matrix\n",
        "    cm = confusion_matrix(y_val, y_pred)\n",
        "    cm_percentage = cm / cm.sum(axis=1, keepdims=True) * 100\n",
        "\n",
        "    # Plot Confusion Matrix\n",
        "    plt.figure(figsize=(8, 6))\n",
        "    sb.heatmap(cm_percentage, annot=True, fmt='.2f', cmap='Blues',\n",
        "               xticklabels=le.classes_, yticklabels=le.classes_)\n",
        "    plt.xlabel('Predicted')\n",
        "    plt.ylabel('True')\n",
        "    plt.title(f'{name} - Confusion Matrix')\n",
        "    plt.show()\n"
      ],
      "metadata": {
        "colab": {
          "base_uri": "https://localhost:8080/",
          "height": 1000
        },
        "id": "ZDO1t01cQCpj",
        "outputId": "f753065c-8f6f-4748-c3f7-244591cc90bb"
      },
      "execution_count": 37,
      "outputs": [
        {
          "output_type": "stream",
          "name": "stdout",
          "text": [
            "\n",
            "==================== Random Forest ====================\n",
            "Cross-Validation Accuracy: 0.8892\n",
            "Validation Accuracy: 0.8953\n",
            "              precision    recall  f1-score   support\n",
            "\n",
            "           0       0.93      0.91      0.92       428\n",
            "           1       0.80      0.89      0.84       525\n",
            "           2       0.92      0.87      0.89       512\n",
            "           3       0.97      0.99      0.98       540\n",
            "           4       1.00      1.00      1.00       661\n",
            "           5       0.82      0.70      0.76       424\n",
            "           6       0.79      0.85      0.82       434\n",
            "\n",
            "    accuracy                           0.90      3524\n",
            "   macro avg       0.89      0.88      0.89      3524\n",
            "weighted avg       0.90      0.90      0.89      3524\n",
            "\n"
          ]
        },
        {
          "output_type": "display_data",
          "data": {
            "text/plain": [
              "<Figure size 800x600 with 2 Axes>"
            ],
            "image/png": "[encoded data removed]"
          },
          "metadata": {}
        },
        {
          "output_type": "stream",
          "name": "stdout",
          "text": [
            "\n",
            "==================== AdaBoost ====================\n",
            "Cross-Validation Accuracy: 0.7247\n",
            "Validation Accuracy: 0.7633\n",
            "              precision    recall  f1-score   support\n",
            "\n",
            "           0       0.74      0.78      0.76       428\n",
            "           1       0.59      0.64      0.61       525\n",
            "           2       0.74      0.76      0.75       512\n",
            "           3       0.89      0.91      0.90       540\n",
            "           4       0.95      1.00      0.97       661\n",
            "           5       0.68      0.44      0.54       424\n",
            "           6       0.66      0.67      0.67       434\n",
            "\n",
            "    accuracy                           0.76      3524\n",
            "   macro avg       0.75      0.74      0.74      3524\n",
            "weighted avg       0.76      0.76      0.76      3524\n",
            "\n"
          ]
        },
        {
          "output_type": "display_data",
          "data": {
            "text/plain": [
              "<Figure size 800x600 with 2 Axes>"
            ],
            "image/png": "[encoded data removed]"
          },
          "metadata": {}
        },
        {
          "output_type": "stream",
          "name": "stdout",
          "text": [
            "\n",
            "==================== Gradient Boosting ====================\n",
            "Cross-Validation Accuracy: 0.9034\n",
            "Validation Accuracy: 0.9078\n",
            "              precision    recall  f1-score   support\n",
            "\n",
            "           0       0.93      0.94      0.94       428\n",
            "           1       0.86      0.88      0.87       525\n",
            "           2       0.91      0.91      0.91       512\n",
            "           3       0.96      0.98      0.97       540\n",
            "           4       1.00      1.00      1.00       661\n",
            "           5       0.79      0.75      0.77       424\n",
            "           6       0.84      0.82      0.83       434\n",
            "\n",
            "    accuracy                           0.91      3524\n",
            "   macro avg       0.90      0.90      0.90      3524\n",
            "weighted avg       0.91      0.91      0.91      3524\n",
            "\n"
          ]
        },
        {
          "output_type": "display_data",
          "data": {
            "text/plain": [
              "<Figure size 800x600 with 2 Axes>"
            ],
            "image/png": "[encoded data removed]"
          },
          "metadata": {}
        }
      ]
    },
    {
      "cell_type": "code",
      "metadata": {
        "id": "8007babe"
      },
      "source": [
        "# # Assuming 'final_pipeline' which includes the preprocessor and the best XGBoost model\n",
        "# # is already trained on the full training data (X, y)\n",
        "\n",
        "# # Prepare the test data (drop 'id')\n",
        "# X_test = test_df.drop('id', axis=1)\n",
        "# test_ids = test_df['id']\n",
        "\n",
        "# # Make predictions on the test set using the final pipeline\n",
        "# test_predictions_encoded = final_pipeline.predict(X_test)\n",
        "\n",
        "# # Decode the numeric predictions back into string labels using the fitted LabelEncoder\n",
        "# test_predictions_labels = le.inverse_transform(test_predictions_encoded)\n",
        "\n",
        "# # Create the submission DataFrame\n",
        "# submission_df = pd.DataFrame({\n",
        "#     'id': test_ids,\n",
        "#     'WeightCategory': test_predictions_labels\n",
        "# })\n",
        "\n",
        "# # Save to CSV\n",
        "# submission_df.to_csv('submission.csv', index=False)\n",
        "\n",
        "# print(\"\\n--- 'submission.csv' created successfully! ---\")\n",
        "# print(\"Submission file head:\")\n",
        "# print(submission_df.head())"
      ],
      "execution_count": 43,
      "outputs": []
    },
    {
      "cell_type": "code",
      "source": [
        "# --- Compute Validation Accuracy for Best Model ---\n",
        "best_model = ModelClass(**study.best_params)\n",
        "best_model.fit(preprocessor.transform(X_train), y_train)\n",
        "val_preds = best_model.predict(preprocessor.transform(X_val))\n",
        "val_accuracy = accuracy_score(y_val, val_preds)\n",
        "print(f\"Accuracy on validation set: {val_accuracy:.5f}\")\n",
        "\n",
        "# --- Train Final Model on All Data ---\n",
        "final_pipeline = Pipeline([\n",
        "    ('preprocessor', preprocessor),\n",
        "    ('classifier', ModelClass(**study.best_params))\n",
        "])\n",
        "final_pipeline.fit(X, y)\n",
        "print(\"Final model training complete.\")\n",
        "\n",
        "# --- Generate Submission CSV ---\n",
        "# Assumes test_df exists and has an 'id' column\n",
        "X_test = test_df.drop('id', axis=1)\n",
        "test_ids = test_df['id']\n",
        "test_preds_encoded = final_pipeline.predict(X_test) # Get the encoded predictions\n",
        "test_preds_labels = le.inverse_transform(test_preds_encoded) # Decode the predictions\n",
        "\n",
        "submission_df = pd.DataFrame({'id': test_ids, 'WeightCategory': test_preds_labels}) # Use the decoded labels\n",
        "submission_df.to_csv('submission.csv', index=False)\n",
        "print(\"Submission file 'submission.csv' generated.\")\n"
      ],
      "metadata": {
        "id": "p3FquML_S67-"
      },
      "execution_count": 42,
      "outputs": []
    },
    {
      "cell_type": "code",
      "execution_count": 22,
      "metadata": {
        "id": "Nvvg_qlBkQZa",
        "colab": {
          "base_uri": "https://localhost:8080/"
        },
        "outputId": "d21ac4cf-3cd7-4c81-ccc4-1a30660cec5c"
      },
      "outputs": [
        {
          "output_type": "stream",
          "name": "stdout",
          "text": [
            "100% 118k/118k [00:00<00:00, 335kB/s]\n",
            "Successfully submitted to AIT511: Course Project 1"
          ]
        }
      ],
      "source": [
        "!kaggle competitions submit -c ait-511-course-project-1-obesity-risk -f submission.csv -m \"Submission using original data\""
      ]
    },
    {
      "cell_type": "code",
      "source": [
        "------------------------------------------------------------#FINAL TRAIN AND TEST ACCURACIES------------------------------------------------------------------"
      ],
      "metadata": {
        "id": "Y_utTaQMv1gP"
      },
      "execution_count": null,
      "outputs": []
    },
    {
      "cell_type": "code",
      "source": [
        "#Random Forest -------- #test accuracy -- Score: 89.366\n",
        "  # Best Accuracy train: 0.89529\n",
        "  # Best Hyperparameters: {'n_estimators': 1424, 'max_depth': 12, 'min_samples_split': 8, 'min_samples_leaf': 3, 'max_features': 'sqrt', 'bootstrap': False}\n",
        "\n",
        "#Adaboost ------- #test accuracy -- Score:76.942\n",
        "  # --- Optimization Complete ---\n",
        "  #   Best Accuracy: 0.76334\n",
        "  #   Best Hyperparameters: {'n_estimators': 1495, 'learning_rate': 0.07597457794162066, 'algorithm': 'SAMME'}\n",
        "\n",
        "#Gradient Boost ------- train accuracy: 91.175  #test accuracy -- Score: Score: 0.90082\n",
        "    #--- Optimization Complete ---\n",
        "    #   Best Accuracy: 0.91175\n",
        "    #  Best Hyperparameters: {'n_estimators': 1207, 'learning_rate': 0.06517338247933074, 'max_depth': 11, 'min_samples_split': 6, 'min_samples_leaf': 1, 'subsample': 0.8101963465846417, 'max_features': 'sqrt'}\n",
        "\n",
        "#XG Boost ------- #test accuracy -- Score:91.542\n",
        "    # Best Validation Accuracy: 0.92509\n",
        "    # Best Hyperparameters:\n",
        "    # {'n_estimators': 1597, 'learning_rate': 0.01452211141490541, 'max_depth': 12, 'min_child_weight': 5, 'gamma': 0.6985265792741071, 'subsample': 0.7050056223404357, 'colsample_bytree': 0.4686281411833096, 'reg_alpha': 0.5740823340642535, 'reg_lambda': 0.832267917170442}"
      ],
      "metadata": {
        "id": "0yNSu8F_Whjw"
      },
      "execution_count": null,
      "outputs": []
    }
  ],
  "metadata": {
    "colab": {
      "provenance": []
    },
    "kernelspec": {
      "display_name": "Python 3",
      "name": "python3"
    },
    "language_info": {
      "name": "python"
    }
  },
  "nbformat": 4,
  "nbformat_minor": 0
}